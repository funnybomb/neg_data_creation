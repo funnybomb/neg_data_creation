{
 "cells": [
  {
   "cell_type": "code",
   "execution_count": 1,
   "metadata": {},
   "outputs": [],
   "source": [
    "import time, threading\n"
   ]
  },
  {
   "cell_type": "code",
   "execution_count": 4,
   "metadata": {},
   "outputs": [
    {
     "name": "stdout",
     "output_type": "stream",
     "text": [
      "Two thread cost time: 8.78369193\n",
      "Main thread cost time: 4.6699398290000005\n"
     ]
    }
   ],
   "source": [
    "def tstart(arg):\n",
    "    var = 0\n",
    "    for i in range(100000000):\n",
    "        var += 1\n",
    "\n",
    "t1 = threading.Thread(target=tstart, args=('This is thread 1',))\n",
    "t2 = threading.Thread(target=tstart, args=('This is thread 2',))\n",
    "start_time = time.process_time()\n",
    "t1.start()\n",
    "t2.start()\n",
    "t1.join()\n",
    "t2.join()\n",
    "print(\"Two thread cost time: %s\" % (time.process_time() - start_time))\n",
    "start_time = time.process_time()\n",
    "tstart(\"This is thread 0\")\n",
    "print(\"Main thread cost time: %s\" % (time.process_time() - start_time))"
   ]
  },
  {
   "cell_type": "code",
   "execution_count": 1,
   "metadata": {},
   "outputs": [],
   "source": [
    "import psutil"
   ]
  },
  {
   "cell_type": "code",
   "execution_count": 4,
   "metadata": {},
   "outputs": [
    {
     "data": {
      "text/plain": [
       "14"
      ]
     },
     "execution_count": 4,
     "metadata": {},
     "output_type": "execute_result"
    }
   ],
   "source": [
    "psutil.cpu_count(logical=False)"
   ]
  },
  {
   "cell_type": "code",
   "execution_count": 8,
   "metadata": {},
   "outputs": [],
   "source": [
    "from multiprocessing import Pool\n",
    "import os, time, random\n",
    "\n",
    "def long_time_task(name):\n",
    "    print('Run task %s (%s)...' % (name, os.getpid()))\n",
    "    start = time.time()\n",
    "    time.sleep((random.random()+3) * 2)\n",
    "    end = time.time()\n",
    "    print('Task %s runs %0.2f seconds.' % (name, (end - start)))"
   ]
  },
  {
   "cell_type": "code",
   "execution_count": 22,
   "metadata": {},
   "outputs": [
    {
     "name": "stdout",
     "output_type": "stream",
     "text": [
      "Parent process 1459.\n",
      "Run task 0 (3606)...\n",
      "Run task 1 (3607)...\n",
      "Run task 2 (3608)...\n",
      "Run task 5 (3611)...\n",
      "Run task 3 (3609)...\n",
      "Run task 4 (3610)...\n",
      "Run task 6 (3612)...\n",
      "Run task 7 (3613)...\n",
      "Run task 8 (3614)...\n",
      "Run task 9 (3615)...\n",
      "Run task 10 (3616)...\n",
      "Run task 11 (3617)...\n",
      "Run task 14 (3620)...\n",
      "Run task 12 (3618)...\n",
      "Run task 13 (3619)...\n",
      "Run task 16 (3622)...\n",
      "Run task 15 (3621)...\n",
      "Run task 17 (3623)...\n",
      "Run task 19 (3625)...\n",
      "Run task 18 (3624)...\n",
      "Run task 21 (3627)...\n",
      "Run task 23 (3629)...\n",
      "Run task 26 (3632)...\n",
      "Run task 20 (3626)...\n",
      "Run task 24 (3630)...\n",
      "Run task 22 (3628)...\n",
      "Run task 27 (3633)...\n",
      "Run task 25 (3631)...\n",
      "Waiting for all subprocesses done...\n",
      "Task 9 runs 6.01 seconds.\n",
      "Run task 28 (3615)...\n",
      "Task 23 runs 6.09 seconds.\n",
      "Run task 29 (3629)...\n",
      "Task 11 runs 6.11 seconds.\n",
      "Run task 30 (3617)...\n",
      "Task 19 runs 6.19 seconds.\n",
      "Run task 31 (3625)...\n",
      "Task 26 runs 6.24 seconds.\n",
      "Run task 32 (3632)...\n",
      "Task 14 runs 6.28 seconds.\n",
      "Run task 33 (3620)...\n",
      "Task 5 runs 6.37 seconds.\n",
      "Run task 34 (3611)...\n",
      "Task 15 runs 6.50 seconds.\n",
      "Task 10 runs 6.58 seconds.\n",
      "Task 12 runs 6.64 seconds.\n",
      "Task 1 runs 6.70 seconds.\n",
      "Task 0 runs 6.83 seconds.\n",
      "Task 7 runs 6.92 seconds.\n",
      "Task 3 runs 7.10 seconds.\n",
      "Task 24 runs 7.13 seconds.\n",
      "Task 8 runs 7.15 seconds.\n",
      "Task 13 runs 7.24 seconds.\n",
      "Task 22 runs 7.31 seconds.\n",
      "Task 17 runs 7.40 seconds.\n",
      "Task 20 runs 7.42 seconds.\n",
      "Task 4 runs 7.44 seconds.\n",
      "Task 6 runs 7.63 seconds.\n",
      "Task 25 runs 7.66 seconds.\n",
      "Task 21 runs 7.72 seconds.\n",
      "Task 2 runs 7.77 seconds.\n",
      "Task 16 runs 7.82 seconds.\n",
      "Task 18 runs 7.87 seconds.\n",
      "Task 27 runs 7.92 seconds.\n",
      "Task 30 runs 6.05 seconds.\n",
      "Task 29 runs 6.68 seconds.\n",
      "Task 31 runs 7.55 seconds.\n",
      "Task 28 runs 7.99 seconds.\n",
      "Task 32 runs 7.80 seconds.\n",
      "Task 33 runs 7.83 seconds.\n",
      "Task 34 runs 7.86 seconds.\n",
      "All subprocesses done. 14.476025819778442\n"
     ]
    }
   ],
   "source": [
    "t0 = time.time()\n",
    "print('Parent process %s.' % os.getpid())\n",
    "p = Pool()\n",
    "for i in range(35):\n",
    "    p.apply_async(long_time_task, args=(i,))\n",
    "print('Waiting for all subprocesses done...')\n",
    "p.close()\n",
    "p.join()\n",
    "print('All subprocesses done.',time.time()-t0)"
   ]
  },
  {
   "cell_type": "code",
   "execution_count": 14,
   "metadata": {},
   "outputs": [
    {
     "name": "stdout",
     "output_type": "stream",
     "text": [
      "Looking in indexes: https://pypi.tuna.tsinghua.edu.cn/simple\n",
      "Requirement already satisfied: tqdm in /opt/conda/lib/python3.7/site-packages (4.42.0)\n",
      "Note: you may need to restart the kernel to use updated packages.\n"
     ]
    }
   ],
   "source": [
    "pip install -i https://pypi.tuna.tsinghua.edu.cn/simple tqdm"
   ]
  },
  {
   "cell_type": "code",
   "execution_count": 15,
   "metadata": {},
   "outputs": [
    {
     "name": "stderr",
     "output_type": "stream",
     "text": [
      "100%|██████████| 70000/70000 [00:11<00:00, 6058.94it/s]\n",
      "param:: 100%|██████████| 70000/70000 [00:00<00:00, 466407.64it/s]"
     ]
    },
    {
     "name": "stdout",
     "output_type": "stream",
     "text": [
      "t2-t1:11.557361\n",
      "**********\n"
     ]
    },
    {
     "name": "stderr",
     "output_type": "stream",
     "text": [
      "\n"
     ]
    },
    {
     "ename": "TypeError",
     "evalue": "doSomething() missing 1 required positional argument: 'd'",
     "output_type": "error",
     "traceback": [
      "\u001b[0;31m\u001b[0m",
      "\u001b[0;31mRemoteTraceback\u001b[0mTraceback (most recent call last)",
      "\u001b[0;31mRemoteTraceback\u001b[0m: \n\"\"\"\nTraceback (most recent call last):\n  File \"/opt/conda/lib/python3.7/multiprocessing/pool.py\", line 121, in worker\n    result = (True, func(*args, **kwds))\n  File \"/opt/conda/lib/python3.7/multiprocessing/pool.py\", line 44, in mapstar\n    return list(map(*args))\nTypeError: doSomething() missing 1 required positional argument: 'd'\n\"\"\"",
      "\nThe above exception was the direct cause of the following exception:\n",
      "\u001b[0;31mTypeError\u001b[0mTraceback (most recent call last)",
      "\u001b[0;32m<ipython-input-15-53abc89ad9e6>\u001b[0m in \u001b[0;36m<module>\u001b[0;34m\u001b[0m\n\u001b[1;32m     32\u001b[0m \u001b[0;34m\u001b[0m\u001b[0m\n\u001b[1;32m     33\u001b[0m     \u001b[0mp\u001b[0m\u001b[0;34m=\u001b[0m\u001b[0mmultiprocessing\u001b[0m\u001b[0;34m.\u001b[0m\u001b[0mPool\u001b[0m\u001b[0;34m(\u001b[0m\u001b[0;36m4\u001b[0m\u001b[0;34m)\u001b[0m\u001b[0;34m\u001b[0m\u001b[0;34m\u001b[0m\u001b[0m\n\u001b[0;32m---> 34\u001b[0;31m     \u001b[0mb\u001b[0m \u001b[0;34m=\u001b[0m \u001b[0mp\u001b[0m\u001b[0;34m.\u001b[0m\u001b[0mmap\u001b[0m\u001b[0;34m(\u001b[0m\u001b[0mdoSomething\u001b[0m\u001b[0;34m,\u001b[0m \u001b[0mparam\u001b[0m\u001b[0;34m)\u001b[0m\u001b[0;34m\u001b[0m\u001b[0;34m\u001b[0m\u001b[0m\n\u001b[0m\u001b[1;32m     35\u001b[0m \u001b[0;34m\u001b[0m\u001b[0m\n\u001b[1;32m     36\u001b[0m \u001b[0;34m\u001b[0m\u001b[0m\n",
      "\u001b[0;32m/opt/conda/lib/python3.7/multiprocessing/pool.py\u001b[0m in \u001b[0;36mmap\u001b[0;34m(self, func, iterable, chunksize)\u001b[0m\n\u001b[1;32m    266\u001b[0m         \u001b[0;32min\u001b[0m \u001b[0ma\u001b[0m \u001b[0mlist\u001b[0m \u001b[0mthat\u001b[0m \u001b[0;32mis\u001b[0m \u001b[0mreturned\u001b[0m\u001b[0;34m.\u001b[0m\u001b[0;34m\u001b[0m\u001b[0;34m\u001b[0m\u001b[0m\n\u001b[1;32m    267\u001b[0m         '''\n\u001b[0;32m--> 268\u001b[0;31m         \u001b[0;32mreturn\u001b[0m \u001b[0mself\u001b[0m\u001b[0;34m.\u001b[0m\u001b[0m_map_async\u001b[0m\u001b[0;34m(\u001b[0m\u001b[0mfunc\u001b[0m\u001b[0;34m,\u001b[0m \u001b[0miterable\u001b[0m\u001b[0;34m,\u001b[0m \u001b[0mmapstar\u001b[0m\u001b[0;34m,\u001b[0m \u001b[0mchunksize\u001b[0m\u001b[0;34m)\u001b[0m\u001b[0;34m.\u001b[0m\u001b[0mget\u001b[0m\u001b[0;34m(\u001b[0m\u001b[0;34m)\u001b[0m\u001b[0;34m\u001b[0m\u001b[0;34m\u001b[0m\u001b[0m\n\u001b[0m\u001b[1;32m    269\u001b[0m \u001b[0;34m\u001b[0m\u001b[0m\n\u001b[1;32m    270\u001b[0m     \u001b[0;32mdef\u001b[0m \u001b[0mstarmap\u001b[0m\u001b[0;34m(\u001b[0m\u001b[0mself\u001b[0m\u001b[0;34m,\u001b[0m \u001b[0mfunc\u001b[0m\u001b[0;34m,\u001b[0m \u001b[0miterable\u001b[0m\u001b[0;34m,\u001b[0m \u001b[0mchunksize\u001b[0m\u001b[0;34m=\u001b[0m\u001b[0;32mNone\u001b[0m\u001b[0;34m)\u001b[0m\u001b[0;34m:\u001b[0m\u001b[0;34m\u001b[0m\u001b[0;34m\u001b[0m\u001b[0m\n",
      "\u001b[0;32m/opt/conda/lib/python3.7/multiprocessing/pool.py\u001b[0m in \u001b[0;36mget\u001b[0;34m(self, timeout)\u001b[0m\n\u001b[1;32m    655\u001b[0m             \u001b[0;32mreturn\u001b[0m \u001b[0mself\u001b[0m\u001b[0;34m.\u001b[0m\u001b[0m_value\u001b[0m\u001b[0;34m\u001b[0m\u001b[0;34m\u001b[0m\u001b[0m\n\u001b[1;32m    656\u001b[0m         \u001b[0;32melse\u001b[0m\u001b[0;34m:\u001b[0m\u001b[0;34m\u001b[0m\u001b[0;34m\u001b[0m\u001b[0m\n\u001b[0;32m--> 657\u001b[0;31m             \u001b[0;32mraise\u001b[0m \u001b[0mself\u001b[0m\u001b[0;34m.\u001b[0m\u001b[0m_value\u001b[0m\u001b[0;34m\u001b[0m\u001b[0;34m\u001b[0m\u001b[0m\n\u001b[0m\u001b[1;32m    658\u001b[0m \u001b[0;34m\u001b[0m\u001b[0m\n\u001b[1;32m    659\u001b[0m     \u001b[0;32mdef\u001b[0m \u001b[0m_set\u001b[0m\u001b[0;34m(\u001b[0m\u001b[0mself\u001b[0m\u001b[0;34m,\u001b[0m \u001b[0mi\u001b[0m\u001b[0;34m,\u001b[0m \u001b[0mobj\u001b[0m\u001b[0;34m)\u001b[0m\u001b[0;34m:\u001b[0m\u001b[0;34m\u001b[0m\u001b[0;34m\u001b[0m\u001b[0m\n",
      "\u001b[0;31mTypeError\u001b[0m: doSomething() missing 1 required positional argument: 'd'"
     ]
    }
   ],
   "source": [
    "import time\n",
    "import multiprocessing\n",
    "from tqdm import tqdm\n",
    "from scipy.spatial.distance import cdist\n",
    "import numpy as np\n",
    " \n",
    "def doSomething(a,d):\n",
    "    # t1 = time.time()\n",
    "    # r=cdist([a],datas,\"cosine\")[0]#计算70W次cos值\n",
    "    # t2 = time.time()\n",
    "    # print('t2-t1:%4f' % (t2 - t1))\n",
    "    r=0\n",
    "    time.sleep(0.0001)\n",
    "    return r\n",
    "def do(param):\n",
    "    return doSomething(param[0],param[1])\n",
    "if __name__ == '__main__':\n",
    "    datas=[]\n",
    "    for i in range(0,70000):\n",
    "        a = np.random.random((2,))\n",
    "        datas.append(a)\n",
    "    t1=time.time()\n",
    "    for e in tqdm(datas):\n",
    "        doSomething(e,datas)\n",
    "    t2=time.time()\n",
    "    print('t2-t1:%4f'%(t2-t1))\n",
    "    param=[]\n",
    "    for ele in tqdm(datas,desc='param:'):\n",
    "        t=(ele,datas)\n",
    "        param.append(t)\n",
    "    print('*'*10)\n",
    " \n",
    "    p=multiprocessing.Pool(4)\n",
    "    b = p.map(doSomething, param)\n",
    " \n",
    " \n",
    "    t1 = time.time()\n",
    "    b=p.map(do,param)\n",
    "    p.close()\n",
    "    p.join()\n",
    "    t2 = time.time()\n",
    "    print('t2-t1:%4f' % (t2 - t1))"
   ]
  },
  {
   "cell_type": "code",
   "execution_count": 25,
   "metadata": {},
   "outputs": [
    {
     "name": "stdout",
     "output_type": "stream",
     "text": [
      "main line\n",
      "module name: __main__\n",
      "parent process: 6\n",
      "process id: 1459\n",
      "function f\n",
      "module name: __main__\n",
      "parent process: 1459\n",
      "process id: 3777\n"
     ]
    }
   ],
   "source": [
    "from multiprocessing import Process\n",
    "def info(title):\n",
    "    print(title)\n",
    "    print('module name:', __name__)\n",
    "    print('parent process:', os.getppid())\n",
    "    print('process id:', os.getpid())\n",
    "\n",
    "def f(name):\n",
    "    info('function f')\n",
    "\n",
    "info('main line')\n",
    "p = Process(target=f, args=('bob',))\n",
    "p.start()\n",
    "p.join()"
   ]
  },
  {
   "cell_type": "code",
   "execution_count": 18,
   "metadata": {},
   "outputs": [
    {
     "data": {
      "text/plain": [
       "\u001b[0;31mSignature:\u001b[0m \u001b[0mp\u001b[0m\u001b[0;34m.\u001b[0m\u001b[0mmap\u001b[0m\u001b[0;34m(\u001b[0m\u001b[0mfunc\u001b[0m\u001b[0;34m,\u001b[0m \u001b[0miterable\u001b[0m\u001b[0;34m,\u001b[0m \u001b[0mchunksize\u001b[0m\u001b[0;34m=\u001b[0m\u001b[0;32mNone\u001b[0m\u001b[0;34m)\u001b[0m\u001b[0;34m\u001b[0m\u001b[0;34m\u001b[0m\u001b[0m\n",
       "\u001b[0;31mDocstring:\u001b[0m\n",
       "Apply `func` to each element in `iterable`, collecting the results\n",
       "in a list that is returned.\n",
       "\u001b[0;31mFile:\u001b[0m      /opt/conda/lib/python3.7/multiprocessing/pool.py\n",
       "\u001b[0;31mType:\u001b[0m      method\n"
      ]
     },
     "metadata": {},
     "output_type": "display_data"
    }
   ],
   "source": [
    "p.map?"
   ]
  },
  {
   "cell_type": "code",
   "execution_count": 19,
   "metadata": {},
   "outputs": [
    {
     "data": {
      "text/plain": [
       "\u001b[0;31mSignature:\u001b[0m \u001b[0mp\u001b[0m\u001b[0;34m.\u001b[0m\u001b[0mapply\u001b[0m\u001b[0;34m(\u001b[0m\u001b[0mfunc\u001b[0m\u001b[0;34m,\u001b[0m \u001b[0margs\u001b[0m\u001b[0;34m=\u001b[0m\u001b[0;34m(\u001b[0m\u001b[0;34m)\u001b[0m\u001b[0;34m,\u001b[0m \u001b[0mkwds\u001b[0m\u001b[0;34m=\u001b[0m\u001b[0;34m{\u001b[0m\u001b[0;34m}\u001b[0m\u001b[0;34m)\u001b[0m\u001b[0;34m\u001b[0m\u001b[0;34m\u001b[0m\u001b[0m\n",
       "\u001b[0;31mDocstring:\u001b[0m\n",
       "Equivalent of `func(*args, **kwds)`.\n",
       "Pool must be running.\n",
       "\u001b[0;31mFile:\u001b[0m      /opt/conda/lib/python3.7/multiprocessing/pool.py\n",
       "\u001b[0;31mType:\u001b[0m      method\n"
      ]
     },
     "metadata": {},
     "output_type": "display_data"
    }
   ],
   "source": [
    "p.apply?"
   ]
  },
  {
   "cell_type": "code",
   "execution_count": null,
   "metadata": {},
   "outputs": [],
   "source": [
    "p.f"
   ]
  }
 ],
 "metadata": {
  "kernelspec": {
   "display_name": "Python 3",
   "language": "python",
   "name": "python3"
  },
  "language_info": {
   "codemirror_mode": {
    "name": "ipython",
    "version": 3
   },
   "file_extension": ".py",
   "mimetype": "text/x-python",
   "name": "python",
   "nbconvert_exporter": "python",
   "pygments_lexer": "ipython3",
   "version": "3.7.6"
  }
 },
 "nbformat": 4,
 "nbformat_minor": 4
}
