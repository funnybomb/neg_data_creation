{
 "cells": [
  {
   "cell_type": "code",
   "execution_count": 94,
   "metadata": {},
   "outputs": [],
   "source": [
    "from Bio import pairwise2 as pw"
   ]
  },
  {
   "cell_type": "code",
   "execution_count": 9,
   "metadata": {},
   "outputs": [],
   "source": [
    "from Bio import Seq"
   ]
  },
  {
   "cell_type": "code",
   "execution_count": 10,
   "metadata": {},
   "outputs": [],
   "source": [
    "from Bio import SeqIO \n",
    "import Bio"
   ]
  },
  {
   "cell_type": "code",
   "execution_count": 11,
   "metadata": {},
   "outputs": [],
   "source": [
    "from Bio.Alphabet import IUPAC"
   ]
  },
  {
   "cell_type": "code",
   "execution_count": 12,
   "metadata": {},
   "outputs": [],
   "source": [
    "import numpy as np\n",
    "import pandas as pd"
   ]
  },
  {
   "cell_type": "code",
   "execution_count": null,
   "metadata": {},
   "outputs": [],
   "source": [
    "import pandas as pd"
   ]
  },
  {
   "cell_type": "code",
   "execution_count": 17,
   "metadata": {},
   "outputs": [],
   "source": [
    "uniprot = list(SeqIO.parse('uniprot-proteome_human.fasta','fasta'))"
   ]
  },
  {
   "cell_type": "code",
   "execution_count": 18,
   "metadata": {},
   "outputs": [],
   "source": [
    "for seq in uniprot:   #\n",
    "    x = seq.id\n",
    "    seq.id = x.split(\"|\")[1]"
   ]
  },
  {
   "cell_type": "code",
   "execution_count": 21,
   "metadata": {},
   "outputs": [],
   "source": [
    "ids = [seq.id for seq in uniprot]\n",
    "names = [seq.name for seq in uniprot]"
   ]
  },
  {
   "cell_type": "code",
   "execution_count": 40,
   "metadata": {},
   "outputs": [],
   "source": [
    "uni_dict = {}\n",
    "for i in uniprot:\n",
    "    uni_dict[i.id] =i"
   ]
  },
  {
   "cell_type": "code",
   "execution_count": 33,
   "metadata": {},
   "outputs": [],
   "source": [
    "grist = pd.read_table('gristone_positive_data.txt')"
   ]
  },
  {
   "cell_type": "code",
   "execution_count": 41,
   "metadata": {},
   "outputs": [
    {
     "data": {
      "text/html": [
       "<div>\n",
       "<style scoped>\n",
       "    .dataframe tbody tr th:only-of-type {\n",
       "        vertical-align: middle;\n",
       "    }\n",
       "\n",
       "    .dataframe tbody tr th {\n",
       "        vertical-align: top;\n",
       "    }\n",
       "\n",
       "    .dataframe thead th {\n",
       "        text-align: right;\n",
       "    }\n",
       "</style>\n",
       "<table border=\"1\" class=\"dataframe\">\n",
       "  <thead>\n",
       "    <tr style=\"text-align: right;\">\n",
       "      <th></th>\n",
       "      <th>uniport_id</th>\n",
       "      <th>peptide</th>\n",
       "      <th>left_flanking</th>\n",
       "      <th>right_flanking</th>\n",
       "      <th>sample_id</th>\n",
       "      <th>ensembl_gene_id</th>\n",
       "      <th>express_sum_tpm</th>\n",
       "      <th>family</th>\n",
       "      <th>A1</th>\n",
       "      <th>B1</th>\n",
       "      <th>C1</th>\n",
       "      <th>A2</th>\n",
       "      <th>B2</th>\n",
       "      <th>C2</th>\n",
       "      <th>label</th>\n",
       "    </tr>\n",
       "  </thead>\n",
       "  <tbody>\n",
       "    <tr>\n",
       "      <th>0</th>\n",
       "      <td>P62424</td>\n",
       "      <td>KVAPAPAVVKK</td>\n",
       "      <td>KAKGK</td>\n",
       "      <td>QEAKK</td>\n",
       "      <td>train_sample_28</td>\n",
       "      <td>ENSG00000148303</td>\n",
       "      <td>397.13</td>\n",
       "      <td>PTHR23105_SF29</td>\n",
       "      <td>A*03:01</td>\n",
       "      <td>B*35:03</td>\n",
       "      <td>C*03:03</td>\n",
       "      <td>A*03:01</td>\n",
       "      <td>B*51:01</td>\n",
       "      <td>C*04:01</td>\n",
       "      <td>1</td>\n",
       "    </tr>\n",
       "    <tr>\n",
       "      <th>1</th>\n",
       "      <td>germline-TAOK3-NM_016281-140-G-to-A-S47N-Ser47...</td>\n",
       "      <td>HTNEVVAIKK</td>\n",
       "      <td>FATNA</td>\n",
       "      <td>MSYSG</td>\n",
       "      <td>train_sample_28</td>\n",
       "      <td>ENSG00000135090</td>\n",
       "      <td>21.64</td>\n",
       "      <td>PTHR24361_SF187</td>\n",
       "      <td>A*03:01</td>\n",
       "      <td>B*35:03</td>\n",
       "      <td>C*03:03</td>\n",
       "      <td>A*03:01</td>\n",
       "      <td>B*51:01</td>\n",
       "      <td>C*04:01</td>\n",
       "      <td>1</td>\n",
       "    </tr>\n",
       "    <tr>\n",
       "      <th>2</th>\n",
       "      <td>Q460N5</td>\n",
       "      <td>RLLPGNATISK</td>\n",
       "      <td>VKREG</td>\n",
       "      <td>AGKLP</td>\n",
       "      <td>train_sample_28</td>\n",
       "      <td>ENSG00000173193</td>\n",
       "      <td>26.23</td>\n",
       "      <td>PTHR14453_SF53</td>\n",
       "      <td>A*03:01</td>\n",
       "      <td>B*35:03</td>\n",
       "      <td>C*03:03</td>\n",
       "      <td>A*03:01</td>\n",
       "      <td>B*51:01</td>\n",
       "      <td>C*04:01</td>\n",
       "      <td>1</td>\n",
       "    </tr>\n",
       "    <tr>\n",
       "      <th>3</th>\n",
       "      <td>O15511</td>\n",
       "      <td>ALKNPPINTK</td>\n",
       "      <td>AALQA</td>\n",
       "      <td>SQAVK</td>\n",
       "      <td>train_sample_28</td>\n",
       "      <td>ENSG00000162704</td>\n",
       "      <td>79.10</td>\n",
       "      <td>PTHR12644_SF1</td>\n",
       "      <td>A*03:01</td>\n",
       "      <td>B*35:03</td>\n",
       "      <td>C*03:03</td>\n",
       "      <td>A*03:01</td>\n",
       "      <td>B*51:01</td>\n",
       "      <td>C*04:01</td>\n",
       "      <td>1</td>\n",
       "    </tr>\n",
       "    <tr>\n",
       "      <th>4</th>\n",
       "      <td>P09234</td>\n",
       "      <td>MPVGPAPGM</td>\n",
       "      <td>PPPGM</td>\n",
       "      <td>RPPMG</td>\n",
       "      <td>train_sample_28</td>\n",
       "      <td>ENSG00000124562</td>\n",
       "      <td>40.97</td>\n",
       "      <td>PTHR31148_SF1</td>\n",
       "      <td>A*03:01</td>\n",
       "      <td>B*35:03</td>\n",
       "      <td>C*03:03</td>\n",
       "      <td>A*03:01</td>\n",
       "      <td>B*51:01</td>\n",
       "      <td>C*04:01</td>\n",
       "      <td>1</td>\n",
       "    </tr>\n",
       "  </tbody>\n",
       "</table>\n",
       "</div>"
      ],
      "text/plain": [
       "                                          uniport_id      peptide  \\\n",
       "0                                             P62424  KVAPAPAVVKK   \n",
       "1  germline-TAOK3-NM_016281-140-G-to-A-S47N-Ser47...   HTNEVVAIKK   \n",
       "2                                             Q460N5  RLLPGNATISK   \n",
       "3                                             O15511   ALKNPPINTK   \n",
       "4                                             P09234    MPVGPAPGM   \n",
       "\n",
       "  left_flanking right_flanking        sample_id  ensembl_gene_id  \\\n",
       "0         KAKGK          QEAKK  train_sample_28  ENSG00000148303   \n",
       "1         FATNA          MSYSG  train_sample_28  ENSG00000135090   \n",
       "2         VKREG          AGKLP  train_sample_28  ENSG00000173193   \n",
       "3         AALQA          SQAVK  train_sample_28  ENSG00000162704   \n",
       "4         PPPGM          RPPMG  train_sample_28  ENSG00000124562   \n",
       "\n",
       "   express_sum_tpm           family       A1       B1       C1       A2  \\\n",
       "0           397.13   PTHR23105_SF29  A*03:01  B*35:03  C*03:03  A*03:01   \n",
       "1            21.64  PTHR24361_SF187  A*03:01  B*35:03  C*03:03  A*03:01   \n",
       "2            26.23   PTHR14453_SF53  A*03:01  B*35:03  C*03:03  A*03:01   \n",
       "3            79.10    PTHR12644_SF1  A*03:01  B*35:03  C*03:03  A*03:01   \n",
       "4            40.97    PTHR31148_SF1  A*03:01  B*35:03  C*03:03  A*03:01   \n",
       "\n",
       "        B2       C2  label  \n",
       "0  B*51:01  C*04:01      1  \n",
       "1  B*51:01  C*04:01      1  \n",
       "2  B*51:01  C*04:01      1  \n",
       "3  B*51:01  C*04:01      1  \n",
       "4  B*51:01  C*04:01      1  "
      ]
     },
     "execution_count": 41,
     "metadata": {},
     "output_type": "execute_result"
    }
   ],
   "source": [
    "grist.head(5)"
   ]
  },
  {
   "cell_type": "code",
   "execution_count": 93,
   "metadata": {},
   "outputs": [],
   "source": [
    "def calc_identity_score(seq1,seq2,gap=-0.5,extend=-0.1):\n",
    "    \"\"\"\n",
    "    return seq1 seq1 pairwise identiy score\n",
    "    seq1 is positive \n",
    "    seq1 seq2 is string\n",
    "\n",
    "    Bio.pairwise2.format_alignment output:\n",
    "    MPKGKKAKG------\n",
    "      |||||||      \n",
    "    --KGKKAKGKKVAPA\n",
    "      Score=7\n",
    "      \n",
    "    alignment output: [('MPKGKKAKG------', '--KGKKAKGKKVAPA', 7.0, 0, 15)]\n",
    "    score = ali[0][2] = 7\n",
    "    \"\"\"\n",
    "    ali = pw.align.globalxs(seq1,seq2,gap,extend,score_only=True)\n",
    "    # gap penalty = -0.5 in case of cak caak score =3\n",
    "    return ali/min(len(seq1),len(seq2)) # 返回短序列的值,防止substring"
   ]
  },
  {
   "cell_type": "code",
   "execution_count": 128,
   "metadata": {},
   "outputs": [],
   "source": [
    "def window(seq, window_lenth=7,step=1):\n",
    "    \"\"\"\n",
    "    return list of seq window slide\n",
    "    seq is string\n",
    "    \"\"\"\n",
    "    return [seq[i:i+window_lenth] for i in range(0,len(seq)-window_lenth+1,step)]"
   ]
  },
  {
   "cell_type": "code",
   "execution_count": 47,
   "metadata": {},
   "outputs": [],
   "source": [
    "from Bio.pairwise2 import format_alignment"
   ]
  },
  {
   "cell_type": "code",
   "execution_count": 49,
   "metadata": {},
   "outputs": [
    {
     "name": "stdout",
     "output_type": "stream",
     "text": [
      "MPKGKKAKG------\n",
      "  |||||||      \n",
      "--KGKKAKGKKVAPA\n",
      "  Score=7\n",
      "\n"
     ]
    }
   ],
   "source": [
    "print(format_alignment(*ali[0]))"
   ]
  },
  {
   "cell_type": "code",
   "execution_count": 96,
   "metadata": {},
   "outputs": [],
   "source": [
    "import re"
   ]
  },
  {
   "cell_type": "code",
   "execution_count": 116,
   "metadata": {},
   "outputs": [],
   "source": [
    "def search_all(pattern,string, flags=0):\n",
    "    \"\"\"\n",
    "    return all matched pattern index\n",
    "    \"\"\"\n",
    "    res=[]\n",
    "    while len(string)>0:\n",
    "        sobj=re.search(pattern, string, flags)\n",
    "        if not sobj:\n",
    "            break\n",
    "        span=sobj.span()\n",
    "        res.append((span[0],span[1]))\n",
    "        string=string[span[0]+1:]\n",
    "    return res"
   ]
  },
  {
   "cell_type": "code",
   "execution_count": 143,
   "metadata": {
    "jupyter": {
     "source_hidden": true
    }
   },
   "outputs": [],
   "source": [
    "def flat(nums):\n",
    "    res = []\n",
    "    for i in nums:\n",
    "        if isinstance(i, list):\n",
    "            res.extend(flat(i))\n",
    "        else:\n",
    "            res.append(i)\n",
    "    return res"
   ]
  },
  {
   "cell_type": "code",
   "execution_count": 167,
   "metadata": {},
   "outputs": [],
   "source": [
    "def slide_with_flank(seq,full,step=1,up_flank=6,down_flank=6,flags=0):\n",
    "    \"\"\"\n",
    "    return window slide result as list for a full str given potential seq and it's flank removed\n",
    "    seq=abc, full = 01234abc45678abc1234 up=1 down=1 step =1\n",
    "    result is ['012', '123', '567', '234']\n",
    "    \"\"\"\n",
    "    res = []\n",
    "    window_len = len(seq)\n",
    "\n",
    "    if len(full) >= window_len:\n",
    "        sobj = re.search(seq,full,flags)\n",
    "        if not sobj: ## 没找到seq 直接返回slide \n",
    "            res.append(window(full,window_lenth=window_len,step=step))\n",
    "            \n",
    "        else:\n",
    "            span = sobj.span()\n",
    "            if (span[0]-up_flank>0) and (len(full[0:span[0]-up_flank]) >= window_len) :\n",
    "                # 上游剩下的区域长度大于等于seq的长度\n",
    "                res.append(window(full[0:span[0]-up_flank],window_lenth=window_len))\n",
    "            #下游max(up,down)+window_lenth-1的full中有seq的话去掉\n",
    "            #if\n",
    "            if (span[1]+down_flank<len(full)) and (len(full[span[1]+down_flank:]) >= window_len): \n",
    "                # 下游剩下的区域长度大于等于seq的长度\n",
    "                res.append(slide_with_flank(seq,full[span[1]+down_flank:],step=step,\n",
    "                           up_flank=up_flank,down_flank=down_flank,flags=flags))\n",
    "    return flat(res)"
   ]
  },
  {
   "cell_type": "code",
   "execution_count": 210,
   "metadata": {},
   "outputs": [
    {
     "data": {
      "text/plain": [
       "['bc1', 'c12', '123', '234']"
      ]
     },
     "execution_count": 210,
     "metadata": {},
     "output_type": "execute_result"
    }
   ],
   "source": [
    "slide_with_flank('abc','01234abc45678abc1234',up_flank=6,down_flank=6)"
   ]
  },
  {
   "cell_type": "code",
   "execution_count": 195,
   "metadata": {},
   "outputs": [],
   "source": [
    "def filter_with_identity_affinity(seq,full,identity_cutoff=0.5,step=1,up=6,down=6,flags=0):\n",
    "    filtered = {}\n",
    "    slides = slide_with_flank(seq,full,step=step,up_flank=up,down_flank=down,flags=flags)\n",
    "    for s in slides:\n",
    "        identity_score = calc_identity_score(seq,s)\n",
    "        if identity_score <= identity_cutoff:\n",
    "            #if s in filtered.keys(): #已经有score, 寸大值表明有大片段\n",
    "            filtered[s] = identity_score\n",
    "    return filtered"
   ]
  },
  {
   "cell_type": "code",
   "execution_count": null,
   "metadata": {},
   "outputs": [],
   "source": [
    "for i in range(0,len(grist),10000):\n",
    "    g = grist.iloc[i]\n",
    "    if g['uniport_id'] in ids:\n",
    "        full = str(uni_dict[g['uniport_id']].seq)\n",
    "        res_local = filter_with_identity_affinity(g['peptide'],full)\n",
    "        res_full = {}\n",
    "        for win in res_local.keys(): # 过滤掉阳性集在window结果中 identity>0.5的\n",
    "            for pep in np.random.choice(grist['peptide'],1000):#.remove(g['peptide']):\n",
    "                score = calc_identity_score(win,pep)\n",
    "                if score <0.5:\n",
    "                    res_full[win] = score\n",
    "                else:\n",
    "                    break\n",
    "        res_full_key = sorted(res_full.keys(),key=lambda x:(res_local[x],res_full[x]))\n",
    "        grist.iloc[i]['neg1'] = res_full_key[0]"
   ]
  },
  {
   "cell_type": "code",
   "execution_count": 244,
   "metadata": {},
   "outputs": [],
   "source": [
    "grist['neg1'] = np.full_like(grist['peptide'],'o')"
   ]
  },
  {
   "cell_type": "code",
   "execution_count": null,
   "metadata": {},
   "outputs": [],
   "source": [
    "grist['neg1'] "
   ]
  },
  {
   "cell_type": "code",
   "execution_count": null,
   "metadata": {},
   "outputs": [],
   "source": [
    "grist['neg1'] = np.zeros"
   ]
  },
  {
   "cell_type": "code",
   "execution_count": 176,
   "metadata": {},
   "outputs": [],
   "source": [
    "full = str(uni_dict['P62424'].seq)"
   ]
  },
  {
   "cell_type": "code",
   "execution_count": 193,
   "metadata": {},
   "outputs": [],
   "source": [
    "seq=g['peptide']"
   ]
  },
  {
   "cell_type": "code",
   "execution_count": 177,
   "metadata": {},
   "outputs": [],
   "source": [
    "slides = slide_with_flank(g['peptide'],full)"
   ]
  },
  {
   "cell_type": "code",
   "execution_count": 231,
   "metadata": {},
   "outputs": [],
   "source": [
    "res = filter_with_identity_affinity(seq,full)"
   ]
  },
  {
   "cell_type": "code",
   "execution_count": 235,
   "metadata": {
    "collapsed": true,
    "jupyter": {
     "outputs_hidden": true
    }
   },
   "outputs": [
    {
     "name": "stdout",
     "output_type": "stream",
     "text": [
      "RPKNFGIGQDI 0.0\n",
      "PKNFGIGQDIQ 0.0\n",
      "WPRYIRLQRQR 0.0\n",
      "PRYIRLQRQRA 0.0\n",
      "RYIRLQRQRAI 0.0\n",
      "YIRLQRQRAIL 0.0\n",
      "IRLQRQRAILY 0.0\n",
      "NQFTQALDRQT 0.0\n",
      "YCIIKGKARLG 0.0\n",
      "EAIRTNYNDRY 0.0\n",
      "AIRTNYNDRYD 0.0\n",
      "IRTNYNDRYDE 0.0\n",
      "RTNYNDRYDEI 0.0\n",
      "TNYNDRYDEIR 0.0\n",
      "NYNDRYDEIRR 0.0\n",
      "YNDRYDEIRRH 0.0\n",
      "NDRYDEIRRHW 0.0\n",
      "DRYDEIRRHWG 0.0\n",
      "RYDEIRRHWGG 0.0\n",
      "YDEIRRHWGGN 0.0\n",
      "DEIRRHWGGNV 0.0\n",
      "EIRRHWGGNVL 0.0\n",
      "QDIQPKRDLTR 2.523234146875356e-18\n",
      "GIGQDIQPKRD 0.018181818181818177\n",
      "AINQFTQALDR 0.018181818181818177\n",
      "FTQVNSEDKGA 0.018181818181818177\n",
      "IGQDIQPKRDL 0.018181818181818184\n",
      "FTQALDRQTAT 0.018181818181818184\n",
      "TQVNSEDKGAL 0.018181818181818184\n",
      "FEKRPKNFGIG 0.03636363636363637\n",
      "TRFVKWPRYIR 0.03636363636363637\n",
      "QALDRQTATQL 0.03636363636363637\n",
      "LCRKMGVPYCI 0.03636363636363637\n",
      "IIKGKARLGRL 0.03636363636363637\n",
      "RLVHRKTCTTV 0.03636363636363637\n",
      "LTRFVKWPRYI 0.03636363636363638\n",
      "GRLVHRKTCTT 0.03636363636363638\n",
      "IQPKRDLTRFV 0.054545454545454536\n",
      "PYCIIKGKARL 0.054545454545454536\n",
      "ETKQEKKQRLL 0.05454545454545454\n",
      "DLTRFVKWPRY 0.05454545454545456\n",
      "TKQEKKQRLLA 0.05454545454545456\n",
      "CRKMGVPYCII 0.05454545454545456\n",
      "LGRLVHRKTCT 0.05454545454545456\n",
      "RDLTRFVKWPR 0.07272727272727272\n",
      "PAINQFTQALD 0.07272727272727272\n",
      "QLLKLAHKYRP 0.07272727272727272\n",
      "RLGRLVHRKTC 0.07272727272727272\n",
      "PLFEKRPKNFG 0.07272727272727274\n",
      "QEKKQRLLARA 0.0909090909090909\n",
      "NPLFEKRPKNF 0.09090909090909091\n",
      "LFEKRPKNFGI 0.09090909090909091\n",
      "EKRPKNFGIGQ 0.09090909090909091\n",
      "KRPKNFGIGQD 0.09090909090909091\n",
      "KNFGIGQDIQP 0.09090909090909091\n",
      "NFGIGQDIQPK 0.09090909090909091\n",
      "FGIGQDIQPKR 0.09090909090909091\n",
      "GQDIQPKRDLT 0.09090909090909091\n",
      "DIQPKRDLTRF 0.09090909090909091\n",
      "RFVKWPRYIRL 0.09090909090909091\n",
      "FVKWPRYIRLQ 0.09090909090909091\n",
      "VKWPRYIRLQR 0.09090909090909091\n",
      "KWPRYIRLQRQ 0.09090909090909091\n",
      "LQRQRAILYKR 0.09090909090909091\n",
      "QRQRAILYKRL 0.09090909090909091\n",
      "RAILYKRLKVP 0.09090909090909091\n",
      "AILYKRLKVPP 0.09090909090909091\n",
      "PPAINQFTQAL 0.09090909090909091\n",
      "INQFTQALDRQ 0.09090909090909091\n",
      "QFTQALDRQTA 0.09090909090909091\n",
      "TQALDRQTATQ 0.09090909090909091\n",
      "ALDRQTATQLL 0.09090909090909091\n",
      "LDRQTATQLLK 0.09090909090909091\n",
      "RQTATQLLKLA 0.09090909090909091\n",
      "QTATQLLKLAH 0.09090909090909091\n",
      "TQLLKLAHKYR 0.09090909090909091\n",
      "LLKLAHKYRPE 0.09090909090909091\n",
      "KQEKKQRLLAR 0.09090909090909091\n",
      "TTLVENKKAQL 0.09090909090909091\n",
      "ALCRKMGVPYC 0.09090909090909091\n",
      "CIIKGKARLGR 0.09090909090909091\n",
      "LVHRKTCTTVA 0.09090909090909091\n",
      "VHRKTCTTVAF 0.09090909090909091\n",
      "HRKTCTTVAFT 0.09090909090909091\n",
      "RKTCTTVAFTQ 0.09090909090909091\n",
      "AKLVEAIRTNY 0.09090909090909091\n",
      "LVEAIRTNYND 0.09090909090909091\n",
      "VEAIRTNYNDR 0.09090909090909091\n",
      "IRRHWGGNVLG 0.09090909090909091\n",
      "RRHWGGNVLGP 0.09090909090909091\n",
      "RHWGGNVLGPK 0.09090909090909091\n",
      "HWGGNVLGPKS 0.09090909090909091\n",
      "LKLAHKYRPET 0.10909090909090907\n",
      "EKKQRLLARAE 0.10909090909090907\n",
      "AHKYRPETKQE 0.10909090909090909\n",
      "GKGDVPTKRPP 0.10909090909090909\n",
      "RAGVNTVTTLV 0.10909090909090909\n",
      "AGVNTVTTLVE 0.10909090909090909\n",
      "LAKLVEAIRTN 0.10909090909090909\n",
      "WGGNVLGPKSV 0.10909090909090909\n",
      "ATQLLKLAHKY 0.10909090909090911\n",
      "TCTTVAFTQVN 0.10909090909090911\n",
      "RQRAILYKRLK 0.12727272727272726\n",
      "PTKRPPVLRAG 0.12727272727272726\n",
      "TLVENKKAQLV 0.12727272727272726\n",
      "VIAHDVDPIEL 0.12727272727272726\n",
      "LPALCRKMGVP 0.12727272727272726\n",
      "VPYCIIKGKAR 0.12727272727272726\n",
      "IKGKARLGRLV 0.12727272727272726\n",
      "AFTQVNSEDKG 0.12727272727272726\n",
      "QVNSEDKGALA 0.12727272727272726\n",
      "GGNVLGPKSVA 0.12727272727272726\n",
      "VLGPKSVARIA 0.12727272727272726\n",
      "PETKQEKKQRL 0.14545454545454542\n",
      "IAHDVDPIELV 0.14545454545454542\n",
      "PIELVVFLPAL 0.14545454545454542\n",
      "FLPALCRKMGV 0.14545454545454542\n",
      "LEKAKAKELAT 0.14545454545454542\n",
      "LAHKYRPETKQ 0.14545454545454545\n",
      "PALCRKMGVPY 0.14545454545454545\n",
      "TATQLLKLAHK 0.14545454545454548\n",
      "ARIAKLEKAKA 0.14545454545454548\n",
      "QPKRDLTRFVK 0.1636363636363636\n",
      "RPETKQEKKQR 0.1636363636363636\n",
      "AEKKAAGKGDV 0.1636363636363636\n",
      "AGKGDVPTKRP 0.1636363636363636\n",
      "GDVPTKRPPVL 0.1636363636363636\n",
      "VTTLVENKKAQ 0.1636363636363636\n",
      "AQLVVIAHDVD 0.1636363636363636\n",
      "DPIELVVFLPA 0.1636363636363636\n",
      "IELVVFLPALC 0.1636363636363636\n",
      "ARLGRLVHRKT 0.1636363636363636\n",
      "ALAKLVEAIRT 0.1636363636363636\n",
      "VNPLFEKRPKN 0.18181818181818182\n",
      "PKRDLTRFVKW 0.18181818181818182\n",
      "KRDLTRFVKWP 0.18181818181818182\n",
      "RLQRQRAILYK 0.18181818181818182\n",
      "QRAILYKRLKV 0.18181818181818182\n",
      "VPPAINQFTQA 0.18181818181818182\n",
      "DRQTATQLLKL 0.18181818181818182\n",
      "YRPETKQEKKQ 0.18181818181818182\n",
      "RAEKKAAGKGD 0.18181818181818182\n",
      "EKKAAGKGDVP 0.18181818181818182\n",
      "AAGKGDVPTKR 0.18181818181818182\n",
      "PPVLRAGVNTV 0.18181818181818182\n",
      "LRAGVNTVTTL 0.18181818181818182\n",
      "GVNTVTTLVEN 0.18181818181818182\n",
      "VNTVTTLVENK 0.18181818181818182\n",
      "QLVVIAHDVDP 0.18181818181818182\n",
      "VVIAHDVDPIE 0.18181818181818182\n",
      "ELVVFLPALCR 0.18181818181818182\n",
      "MGVPYCIIKGK 0.18181818181818182\n",
      "GVPYCIIKGKA 0.18181818181818182\n",
      "KGKARLGRLVH 0.18181818181818182\n",
      "GKARLGRLVHR 0.18181818181818182\n",
      "KTCTTVAFTQV 0.18181818181818182\n",
      "CTTVAFTQVNS 0.18181818181818182\n",
      "TTVAFTQVNSE 0.18181818181818182\n",
      "TVAFTQVNSED 0.18181818181818182\n",
      "GALAKLVEAIR 0.18181818181818182\n",
      "KLVEAIRTNYN 0.18181818181818182\n",
      "GNVLGPKSVAR 0.18181818181818182\n",
      "NVLGPKSVARI 0.18181818181818182\n",
      "AKAKELATKLG 0.18181818181818182\n",
      "ILYKRLKVPPA 0.19999999999999998\n",
      "VNSEDKGALAK 0.19999999999999998\n",
      "HKYRPETKQEK 0.2\n",
      "RPPVLRAGVNT 0.2\n",
      "RKMGVPYCIIK 0.2\n",
      "LYKRLKVPPAI 0.21818181818181817\n",
      "RLLARAEKKAA 0.21818181818181817\n",
      "DVPTKRPPVLR 0.21818181818181817\n",
      "VPTKRPPVLRA 0.21818181818181817\n",
      "TKRPPVLRAGV 0.21818181818181817\n",
      "PVLRAGVNTVT 0.21818181818181817\n",
      "VLRAGVNTVTT 0.21818181818181817\n",
      "NTVTTLVENKK 0.21818181818181817\n",
      "TVTTLVENKKA 0.21818181818181817\n",
      "VENKKAQLVVI 0.21818181818181817\n",
      "NKKAQLVVIAH 0.21818181818181817\n",
      "VFLPALCRKMG 0.21818181818181817\n",
      "KMGVPYCIIKG 0.21818181818181817\n",
      "VAFTQVNSEDK 0.21818181818181817\n",
      "NSEDKGALAKL 0.21818181818181817\n",
      "PKSVARIAKLE 0.21818181818181817\n",
      "AKLEKAKAKEL 0.21818181818181817\n",
      "LLARAEKKAAG 0.23636363636363633\n",
      "LARAEKKAAGK 0.23636363636363633\n",
      "KGDVPTKRPPV 0.23636363636363633\n",
      "KAQLVVIAHDV 0.23636363636363633\n",
      "SEDKGALAKLV 0.23636363636363633\n",
      "LGPKSVARIAK 0.23636363636363633\n",
      "RIAKLEKAKAK 0.23636363636363633\n",
      "YKRLKVPPAIN 0.23636363636363636\n",
      "KRLKVPPAINQ 0.2545454545454545\n",
      "LVENKKAQLVV 0.2545454545454545\n",
      "KKAQLVVIAHD 0.2545454545454545\n",
      "AHDVDPIELVV 0.2545454545454545\n",
      "EDKGALAKLVE 0.2545454545454545\n",
      "GPKSVARIAKL 0.2545454545454545\n",
      "IAKLEKAKAKE 0.2545454545454545\n",
      "LKVPPAINQFT 0.2727272727272727\n",
      "KLAHKYRPETK 0.2727272727272727\n",
      "KKQRLLARAEK 0.2727272727272727\n",
      "QRLLARAEKKA 0.2727272727272727\n",
      "ARAEKKAAGKG 0.2727272727272727\n",
      "KKAAGKGDVPT 0.2727272727272727\n",
      "KRPPVLRAGVN 0.2727272727272727\n",
      "ENKKAQLVVIA 0.2727272727272727\n",
      "LVVIAHDVDPI 0.2727272727272727\n",
      "HDVDPIELVVF 0.2727272727272727\n",
      "VDPIELVVFLP 0.2727272727272727\n",
      "VVFLPALCRKM 0.2727272727272727\n",
      "KARLGRLVHRK 0.2727272727272727\n",
      "DKGALAKLVEA 0.2727272727272727\n",
      "SVARIAKLEKA 0.2727272727272727\n",
      "VARIAKLEKAK 0.2727272727272727\n",
      "KLEKAKAKELA 0.2727272727272727\n",
      "EKAKAKELATK 0.2727272727272727\n",
      "RLKVPPAINQF 0.3090909090909091\n",
      "KAKAKELATKL 0.3090909090909091\n",
      "KVPPAINQFTQ 0.36363636363636365\n",
      "KYRPETKQEKK 0.36363636363636365\n",
      "KQRLLARAEKK 0.36363636363636365\n",
      "KAAGKGDVPTK 0.36363636363636365\n",
      "DVDPIELVVFL 0.36363636363636365\n",
      "LVVFLPALCRK 0.36363636363636365\n",
      "KGALAKLVEAI 0.36363636363636365\n",
      "KSVARIAKLEK 0.36363636363636365\n"
     ]
    }
   ],
   "source": [
    "for i in p:\n",
    "    print(i,res[i])"
   ]
  },
  {
   "cell_type": "code",
   "execution_count": 213,
   "metadata": {},
   "outputs": [
    {
     "data": {
      "text/plain": [
       "dict_items([('ZhangSan', 'male'), ('LiSi', 'male'), ('WangHong', 'female')])"
      ]
     },
     "execution_count": 213,
     "metadata": {},
     "output_type": "execute_result"
    }
   ],
   "source": [
    "persons.items()"
   ]
  },
  {
   "cell_type": "code",
   "execution_count": 222,
   "metadata": {},
   "outputs": [],
   "source": [
    "x= ['a','b','c']"
   ]
  },
  {
   "cell_type": "code",
   "execution_count": 218,
   "metadata": {},
   "outputs": [
    {
     "data": {
      "text/plain": [
       "'b'"
      ]
     },
     "execution_count": 218,
     "metadata": {},
     "output_type": "execute_result"
    }
   ],
   "source": [
    "remove"
   ]
  },
  {
   "cell_type": "code",
   "execution_count": 220,
   "metadata": {},
   "outputs": [],
   "source": [
    "del x[1]"
   ]
  },
  {
   "cell_type": "code",
   "execution_count": 221,
   "metadata": {},
   "outputs": [
    {
     "data": {
      "text/plain": [
       "['a', 'c']"
      ]
     },
     "execution_count": 221,
     "metadata": {},
     "output_type": "execute_result"
    }
   ],
   "source": [
    "x"
   ]
  },
  {
   "cell_type": "code",
   "execution_count": null,
   "metadata": {},
   "outputs": [],
   "source": [
    "gri"
   ]
  }
 ],
 "metadata": {
  "kernelspec": {
   "display_name": "Python 3",
   "language": "python",
   "name": "python3"
  },
  "language_info": {
   "codemirror_mode": {
    "name": "ipython",
    "version": 3
   },
   "file_extension": ".py",
   "mimetype": "text/x-python",
   "name": "python",
   "nbconvert_exporter": "python",
   "pygments_lexer": "ipython3",
   "version": "3.7.6"
  }
 },
 "nbformat": 4,
 "nbformat_minor": 4
}
