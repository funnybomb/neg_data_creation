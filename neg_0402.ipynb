{
 "cells": [
  {
   "cell_type": "code",
   "execution_count": 1,
   "metadata": {},
   "outputs": [],
   "source": [
    "from Bio import pairwise2 as pw\n",
    "\n",
    "from Bio import Seq\n",
    "\n",
    "from Bio import SeqIO \n",
    "import Bio\n",
    "\n",
    "from Bio.Alphabet import IUPAC\n",
    "\n",
    "import numpy as np\n",
    "import pandas as pd\n",
    "import re"
   ]
  },
  {
   "cell_type": "code",
   "execution_count": 2,
   "metadata": {},
   "outputs": [],
   "source": [
    "import time\n",
    "from functools import wraps\n",
    "  \n",
    "def fn_timer(function):\n",
    "  @wraps(function)\n",
    "  def function_timer(*args, **kwargs):\n",
    "    t0 = time.time()\n",
    "    result = function(*args, **kwargs)\n",
    "    t1 = time.time()\n",
    "    print (\"Total time running %s: %s seconds\" %\n",
    "        (function.__name__, str(t1-t0))\n",
    "        )\n",
    "    return result\n",
    "  return function_timer"
   ]
  },
  {
   "cell_type": "code",
   "execution_count": 3,
   "metadata": {},
   "outputs": [],
   "source": [
    "uniprot = list(SeqIO.parse('uniprot-proteome_human.fasta','fasta'))"
   ]
  },
  {
   "cell_type": "code",
   "execution_count": 4,
   "metadata": {},
   "outputs": [],
   "source": [
    "for seq in uniprot:   #\n",
    "    x = seq.id\n",
    "    seq.id = x.split(\"|\")[1]"
   ]
  },
  {
   "cell_type": "code",
   "execution_count": 5,
   "metadata": {},
   "outputs": [],
   "source": [
    "ids = [seq.id for seq in uniprot]\n",
    "names = [seq.name for seq in uniprot]"
   ]
  },
  {
   "cell_type": "code",
   "execution_count": 6,
   "metadata": {},
   "outputs": [],
   "source": [
    "uni_dict = {}\n",
    "for i in uniprot:\n",
    "    uni_dict[i.id] =i"
   ]
  },
  {
   "cell_type": "code",
   "execution_count": 7,
   "metadata": {},
   "outputs": [],
   "source": [
    "grist = pd.read_table('gristone_positive_data.txt')"
   ]
  },
  {
   "cell_type": "code",
   "execution_count": 9,
   "metadata": {},
   "outputs": [],
   "source": [
    "#@fn_timer\n",
    "def calc_identity_score(seq1,seq2,gap=-0.5,extend=-0.1):\n",
    "    \"\"\"\n",
    "    return seq1 seq1 pairwise identiy score\n",
    "    seq1 is positive \n",
    "    seq1 seq2 is string\n",
    "\n",
    "    Bio.pairwise2.format_alignment output:\n",
    "    MPKGKKAKG------\n",
    "      |||||||      \n",
    "    --KGKKAKGKKVAPA\n",
    "      Score=7\n",
    "      \n",
    "    alignment output: [('MPKGKKAKG------', '--KGKKAKGKKVAPA', 7.0, 0, 15)]\n",
    "    score = ali[0][2] = 7\n",
    "    \"\"\"\n",
    "    ali = pw.align.globalxs(seq1,seq2,gap,extend,score_only=True)\n",
    "    # gap penalty = -0.5 in case of cak caak score =3\n",
    "    return ali/min(len(seq1),len(seq2)) # 返回短序列的值,防止substring"
   ]
  },
  {
   "cell_type": "code",
   "execution_count": 50,
   "metadata": {},
   "outputs": [],
   "source": [
    "#@fn_timer\n",
    "def window_generator(seq, window_lenth=7,step=1):\n",
    "    \"\"\"\n",
    "    return list of seq window slide\n",
    "    seq is string\n",
    "    \"\"\"\n",
    "    if len(seq) >= window_lenth:\n",
    "        return [seq[i:i+window_lenth] for i in range(0,len(seq)-window_lenth+1,step)]\n",
    "    else:\n",
    "        return []"
   ]
  },
  {
   "cell_type": "code",
   "execution_count": null,
   "metadata": {},
   "outputs": [],
   "source": [
    "wi"
   ]
  },
  {
   "cell_type": "code",
   "execution_count": 11,
   "metadata": {},
   "outputs": [],
   "source": [
    "from Bio.pairwise2 import format_alignment"
   ]
  },
  {
   "cell_type": "code",
   "execution_count": 12,
   "metadata": {},
   "outputs": [],
   "source": [
    "def search_all(pattern,string, flags=0):\n",
    "    \"\"\"\n",
    "    return all matched pattern index\n",
    "    \"\"\"\n",
    "    res=[]\n",
    "    while len(string)>0:\n",
    "        sobj=re.search(pattern, string, flags)\n",
    "        if not sobj:\n",
    "            break\n",
    "        span=sobj.span()\n",
    "        res.append((span[0],span[1]))\n",
    "        string=string[span[0]+1:]\n",
    "    return res"
   ]
  },
  {
   "cell_type": "code",
   "execution_count": 13,
   "metadata": {},
   "outputs": [],
   "source": [
    "def flat(nums):\n",
    "    res = []\n",
    "    for i in nums:\n",
    "        if isinstance(i, list):\n",
    "            res.extend(flat(i))\n",
    "        else:\n",
    "            res.append(i)\n",
    "    return res"
   ]
  },
  {
   "cell_type": "code",
   "execution_count": 14,
   "metadata": {},
   "outputs": [],
   "source": [
    "#@fn_timer\n",
    "def slide_with_flank(seq,full,step=1,up_flank=6,down_flank=6,flags=0):\n",
    "    \"\"\"\n",
    "    return window slide result as list for a full str given potential sub seq and it's flank removed\n",
    "    seq=abc, full = 01234abc45678abc1234 up=1 down=1 step =1\n",
    "    result is ['012', '123', '567', '234']\n",
    "    生成一个str full 的滑动窗口自片段,去除了seq和其上下游的部分\n",
    "    \"\"\"\n",
    "    res = []\n",
    "    window_len = len(seq)\n",
    "    coords = [i.span() for i in re.finditer(seq,full,flags)]\n",
    "    \n",
    "    if len(full) >= window_len:\n",
    "        sobj = re.search(seq,full,flags)\n",
    "        if not sobj: ## 没找到seq 直接返回slide \n",
    "            res.append(window(full,window_lenth=window_len,step=step))\n",
    "            \n",
    "        else:\n",
    "            "
   ]
  },
  {
   "cell_type": "code",
   "execution_count": 26,
   "metadata": {},
   "outputs": [],
   "source": [
    "x=list(re.finditer('abc','01234abc45678abc1234'))[0]"
   ]
  },
  {
   "cell_type": "code",
   "execution_count": 47,
   "metadata": {},
   "outputs": [
    {
     "data": {
      "text/plain": [
       "['abc', 'abc']"
      ]
     },
     "execution_count": 47,
     "metadata": {},
     "output_type": "execute_result"
    }
   ],
   "source": [
    "re.findall('abc','01234abc45678abc1234')"
   ]
  },
  {
   "cell_type": "code",
   "execution_count": 48,
   "metadata": {},
   "outputs": [
    {
     "data": {
      "text/plain": [
       "\u001b[0;31mSignature:\u001b[0m \u001b[0mre\u001b[0m\u001b[0;34m.\u001b[0m\u001b[0mfinditer\u001b[0m\u001b[0;34m(\u001b[0m\u001b[0mpattern\u001b[0m\u001b[0;34m,\u001b[0m \u001b[0mstring\u001b[0m\u001b[0;34m,\u001b[0m \u001b[0mflags\u001b[0m\u001b[0;34m=\u001b[0m\u001b[0;36m0\u001b[0m\u001b[0;34m)\u001b[0m\u001b[0;34m\u001b[0m\u001b[0;34m\u001b[0m\u001b[0m\n",
       "\u001b[0;31mDocstring:\u001b[0m\n",
       "Return an iterator over all non-overlapping matches in the\n",
       "string.  For each match, the iterator returns a Match object.\n",
       "\n",
       "Empty matches are included in the result.\n",
       "\u001b[0;31mFile:\u001b[0m      /opt/conda/lib/python3.7/re.py\n",
       "\u001b[0;31mType:\u001b[0m      function\n"
      ]
     },
     "metadata": {},
     "output_type": "display_data"
    }
   ],
   "source": [
    "re.finditer?"
   ]
  },
  {
   "cell_type": "code",
   "execution_count": 19,
   "metadata": {},
   "outputs": [
    {
     "data": {
      "text/plain": [
       "[]"
      ]
     },
     "execution_count": 19,
     "metadata": {},
     "output_type": "execute_result"
    }
   ],
   "source": [
    "slide_with_flank('abc','01234abc45678abc1234',up_flank=4,down_flank=4)"
   ]
  },
  {
   "cell_type": "code",
   "execution_count": 16,
   "metadata": {},
   "outputs": [],
   "source": [
    "#@fn_timer\n",
    "def filter_with_identity_affinity(seq,full,identity_cutoff=0.5,step=1,up=6,down=6,flags=0):\n",
    "    filtered = {}\n",
    "    slides = slide_with_flank(seq,full,step=step,up_flank=up,down_flank=down,flags=flags)\n",
    "    for s in slides:\n",
    "        identity_score = calc_identity_score(seq,s)\n",
    "        if identity_score <= identity_cutoff:\n",
    "            #if s in filtered.keys(): #已经有score, 寸大值表明有大片段\n",
    "            filtered[s] = identity_score\n",
    "    return filtered"
   ]
  },
  {
   "cell_type": "code",
   "execution_count": 17,
   "metadata": {},
   "outputs": [
    {
     "name": "stdout",
     "output_type": "stream",
     "text": [
      "0.45264493600000044\n"
     ]
    }
   ],
   "source": [
    "grist['neg1'] =np.full_like(grist['peptide'],'o')\n",
    "t0 = time.process_time()\n",
    "for i in range(0,len(grist),10000):\n",
    "#for i in range(0,10000):\n",
    "    g = grist.iloc[i]\n",
    "    if g['uniport_id'] in ids:\n",
    "        pep = str(g['left_flanking']) + str(g['peptide']) + str(g['right_flanking'])\n",
    "        full = str(uni_dict[g['uniport_id']].seq)\n",
    "        res_local = filter_with_identity_affinity(pep,full,step=10)\n",
    "#        res_full = {}\n",
    "#        for win in res_local.keys(): # 过滤掉阳性集在window结果中 identity>0.5的\n",
    "#            for pep in np.random.choice(grist['peptide'],100):#.remove(g['peptide']):\n",
    "#                score = calc_identity_score(win,pep)\n",
    "#                if score <0.5:\n",
    "#                    res_full[win] = score\n",
    "#                else:\n",
    "#                    break\n",
    "#        res_full_key = sorted(res_full.keys(),key=lambda x:(res_local[x],res_full[x]))\n",
    "        k=sorted(res_local.keys(),key=lambda x:res_local[x])\n",
    "        if len(k):\n",
    "            grist.loc[i,'neg1'] = k[0] \n",
    "        \n",
    "print(time.process_time()-t0)\n",
    "#grist[grist['neg1'] != 'o'].to_csv('testdata0401.txt',index = False)"
   ]
  },
  {
   "cell_type": "code",
   "execution_count": 18,
   "metadata": {},
   "outputs": [
    {
     "data": {
      "text/html": [
       "<div>\n",
       "<style scoped>\n",
       "    .dataframe tbody tr th:only-of-type {\n",
       "        vertical-align: middle;\n",
       "    }\n",
       "\n",
       "    .dataframe tbody tr th {\n",
       "        vertical-align: top;\n",
       "    }\n",
       "\n",
       "    .dataframe thead th {\n",
       "        text-align: right;\n",
       "    }\n",
       "</style>\n",
       "<table border=\"1\" class=\"dataframe\">\n",
       "  <thead>\n",
       "    <tr style=\"text-align: right;\">\n",
       "      <th></th>\n",
       "      <th>left_flanking</th>\n",
       "      <th>right_flanking</th>\n",
       "    </tr>\n",
       "  </thead>\n",
       "  <tbody>\n",
       "    <tr>\n",
       "      <th>0</th>\n",
       "      <td>KAKGK</td>\n",
       "      <td>QEAKK</td>\n",
       "    </tr>\n",
       "    <tr>\n",
       "      <th>1</th>\n",
       "      <td>FATNA</td>\n",
       "      <td>MSYSG</td>\n",
       "    </tr>\n",
       "    <tr>\n",
       "      <th>2</th>\n",
       "      <td>VKREG</td>\n",
       "      <td>AGKLP</td>\n",
       "    </tr>\n",
       "    <tr>\n",
       "      <th>3</th>\n",
       "      <td>AALQA</td>\n",
       "      <td>SQAVK</td>\n",
       "    </tr>\n",
       "    <tr>\n",
       "      <th>4</th>\n",
       "      <td>PPPGM</td>\n",
       "      <td>RPPMG</td>\n",
       "    </tr>\n",
       "    <tr>\n",
       "      <th>...</th>\n",
       "      <td>...</td>\n",
       "      <td>...</td>\n",
       "    </tr>\n",
       "    <tr>\n",
       "      <th>246325</th>\n",
       "      <td>ISTAG</td>\n",
       "      <td>MLNGA</td>\n",
       "    </tr>\n",
       "    <tr>\n",
       "      <th>246326</th>\n",
       "      <td>KLSIM</td>\n",
       "      <td>GTLDS</td>\n",
       "    </tr>\n",
       "    <tr>\n",
       "      <th>246327</th>\n",
       "      <td>VTAPT</td>\n",
       "      <td>NSASG</td>\n",
       "    </tr>\n",
       "    <tr>\n",
       "      <th>246328</th>\n",
       "      <td>LFCYH</td>\n",
       "      <td>LMALY</td>\n",
       "    </tr>\n",
       "    <tr>\n",
       "      <th>246329</th>\n",
       "      <td>LGPVI</td>\n",
       "      <td>FANKA</td>\n",
       "    </tr>\n",
       "  </tbody>\n",
       "</table>\n",
       "<p>246330 rows × 2 columns</p>\n",
       "</div>"
      ],
      "text/plain": [
       "       left_flanking right_flanking\n",
       "0              KAKGK          QEAKK\n",
       "1              FATNA          MSYSG\n",
       "2              VKREG          AGKLP\n",
       "3              AALQA          SQAVK\n",
       "4              PPPGM          RPPMG\n",
       "...              ...            ...\n",
       "246325         ISTAG          MLNGA\n",
       "246326         KLSIM          GTLDS\n",
       "246327         VTAPT          NSASG\n",
       "246328         LFCYH          LMALY\n",
       "246329         LGPVI          FANKA\n",
       "\n",
       "[246330 rows x 2 columns]"
      ]
     },
     "execution_count": 18,
     "metadata": {},
     "output_type": "execute_result"
    }
   ],
   "source": [
    "grist[['left_flanking','right_flanking']]"
   ]
  },
  {
   "cell_type": "code",
   "execution_count": 51,
   "metadata": {},
   "outputs": [
    {
     "data": {
      "text/plain": [
       "left_flanking          KAKGK\n",
       "peptide          KVAPAPAVVKK\n",
       "Name: 0, dtype: object"
      ]
     },
     "execution_count": 51,
     "metadata": {},
     "output_type": "execute_result"
    }
   ],
   "source": [
    "x[['left_flanking','peptide']]"
   ]
  },
  {
   "cell_type": "code",
   "execution_count": 53,
   "metadata": {},
   "outputs": [
    {
     "data": {
      "text/html": [
       "<div>\n",
       "<style scoped>\n",
       "    .dataframe tbody tr th:only-of-type {\n",
       "        vertical-align: middle;\n",
       "    }\n",
       "\n",
       "    .dataframe tbody tr th {\n",
       "        vertical-align: top;\n",
       "    }\n",
       "\n",
       "    .dataframe thead th {\n",
       "        text-align: right;\n",
       "    }\n",
       "</style>\n",
       "<table border=\"1\" class=\"dataframe\">\n",
       "  <thead>\n",
       "    <tr style=\"text-align: right;\">\n",
       "      <th></th>\n",
       "      <th>uniport_id</th>\n",
       "      <th>peptide</th>\n",
       "      <th>left_flanking</th>\n",
       "      <th>right_flanking</th>\n",
       "      <th>sample_id</th>\n",
       "      <th>ensembl_gene_id</th>\n",
       "      <th>express_sum_tpm</th>\n",
       "      <th>family</th>\n",
       "      <th>A1</th>\n",
       "      <th>B1</th>\n",
       "      <th>C1</th>\n",
       "      <th>A2</th>\n",
       "      <th>B2</th>\n",
       "      <th>C2</th>\n",
       "      <th>label</th>\n",
       "      <th>neg1</th>\n",
       "    </tr>\n",
       "  </thead>\n",
       "  <tbody>\n",
       "    <tr>\n",
       "      <th>0</th>\n",
       "      <td>P62424</td>\n",
       "      <td>KVAPAPAVVKK</td>\n",
       "      <td>KAKGK</td>\n",
       "      <td>QEAKK</td>\n",
       "      <td>train_sample_28</td>\n",
       "      <td>ENSG00000148303</td>\n",
       "      <td>397.13</td>\n",
       "      <td>PTHR23105_SF29</td>\n",
       "      <td>A*03:01</td>\n",
       "      <td>B*35:03</td>\n",
       "      <td>C*03:03</td>\n",
       "      <td>A*03:01</td>\n",
       "      <td>B*51:01</td>\n",
       "      <td>C*04:01</td>\n",
       "      <td>1</td>\n",
       "      <td>PRYIRLQRQRA</td>\n",
       "    </tr>\n",
       "    <tr>\n",
       "      <th>1</th>\n",
       "      <td>germline-TAOK3-NM_016281-140-G-to-A-S47N-Ser47...</td>\n",
       "      <td>HTNEVVAIKK</td>\n",
       "      <td>FATNA</td>\n",
       "      <td>MSYSG</td>\n",
       "      <td>train_sample_28</td>\n",
       "      <td>ENSG00000135090</td>\n",
       "      <td>21.64</td>\n",
       "      <td>PTHR24361_SF187</td>\n",
       "      <td>A*03:01</td>\n",
       "      <td>B*35:03</td>\n",
       "      <td>C*03:03</td>\n",
       "      <td>A*03:01</td>\n",
       "      <td>B*51:01</td>\n",
       "      <td>C*04:01</td>\n",
       "      <td>1</td>\n",
       "      <td>o</td>\n",
       "    </tr>\n",
       "    <tr>\n",
       "      <th>2</th>\n",
       "      <td>Q460N5</td>\n",
       "      <td>RLLPGNATISK</td>\n",
       "      <td>VKREG</td>\n",
       "      <td>AGKLP</td>\n",
       "      <td>train_sample_28</td>\n",
       "      <td>ENSG00000173193</td>\n",
       "      <td>26.23</td>\n",
       "      <td>PTHR14453_SF53</td>\n",
       "      <td>A*03:01</td>\n",
       "      <td>B*35:03</td>\n",
       "      <td>C*03:03</td>\n",
       "      <td>A*03:01</td>\n",
       "      <td>B*51:01</td>\n",
       "      <td>C*04:01</td>\n",
       "      <td>1</td>\n",
       "      <td>o</td>\n",
       "    </tr>\n",
       "    <tr>\n",
       "      <th>3</th>\n",
       "      <td>O15511</td>\n",
       "      <td>ALKNPPINTK</td>\n",
       "      <td>AALQA</td>\n",
       "      <td>SQAVK</td>\n",
       "      <td>train_sample_28</td>\n",
       "      <td>ENSG00000162704</td>\n",
       "      <td>79.10</td>\n",
       "      <td>PTHR12644_SF1</td>\n",
       "      <td>A*03:01</td>\n",
       "      <td>B*35:03</td>\n",
       "      <td>C*03:03</td>\n",
       "      <td>A*03:01</td>\n",
       "      <td>B*51:01</td>\n",
       "      <td>C*04:01</td>\n",
       "      <td>1</td>\n",
       "      <td>o</td>\n",
       "    </tr>\n",
       "    <tr>\n",
       "      <th>4</th>\n",
       "      <td>P09234</td>\n",
       "      <td>MPVGPAPGM</td>\n",
       "      <td>PPPGM</td>\n",
       "      <td>RPPMG</td>\n",
       "      <td>train_sample_28</td>\n",
       "      <td>ENSG00000124562</td>\n",
       "      <td>40.97</td>\n",
       "      <td>PTHR31148_SF1</td>\n",
       "      <td>A*03:01</td>\n",
       "      <td>B*35:03</td>\n",
       "      <td>C*03:03</td>\n",
       "      <td>A*03:01</td>\n",
       "      <td>B*51:01</td>\n",
       "      <td>C*04:01</td>\n",
       "      <td>1</td>\n",
       "      <td>o</td>\n",
       "    </tr>\n",
       "  </tbody>\n",
       "</table>\n",
       "</div>"
      ],
      "text/plain": [
       "                                          uniport_id      peptide  \\\n",
       "0                                             P62424  KVAPAPAVVKK   \n",
       "1  germline-TAOK3-NM_016281-140-G-to-A-S47N-Ser47...   HTNEVVAIKK   \n",
       "2                                             Q460N5  RLLPGNATISK   \n",
       "3                                             O15511   ALKNPPINTK   \n",
       "4                                             P09234    MPVGPAPGM   \n",
       "\n",
       "  left_flanking right_flanking        sample_id  ensembl_gene_id  \\\n",
       "0         KAKGK          QEAKK  train_sample_28  ENSG00000148303   \n",
       "1         FATNA          MSYSG  train_sample_28  ENSG00000135090   \n",
       "2         VKREG          AGKLP  train_sample_28  ENSG00000173193   \n",
       "3         AALQA          SQAVK  train_sample_28  ENSG00000162704   \n",
       "4         PPPGM          RPPMG  train_sample_28  ENSG00000124562   \n",
       "\n",
       "   express_sum_tpm           family       A1       B1       C1       A2  \\\n",
       "0           397.13   PTHR23105_SF29  A*03:01  B*35:03  C*03:03  A*03:01   \n",
       "1            21.64  PTHR24361_SF187  A*03:01  B*35:03  C*03:03  A*03:01   \n",
       "2            26.23   PTHR14453_SF53  A*03:01  B*35:03  C*03:03  A*03:01   \n",
       "3            79.10    PTHR12644_SF1  A*03:01  B*35:03  C*03:03  A*03:01   \n",
       "4            40.97    PTHR31148_SF1  A*03:01  B*35:03  C*03:03  A*03:01   \n",
       "\n",
       "        B2       C2  label         neg1  \n",
       "0  B*51:01  C*04:01      1  PRYIRLQRQRA  \n",
       "1  B*51:01  C*04:01      1            o  \n",
       "2  B*51:01  C*04:01      1            o  \n",
       "3  B*51:01  C*04:01      1            o  \n",
       "4  B*51:01  C*04:01      1            o  "
      ]
     },
     "execution_count": 53,
     "metadata": {},
     "output_type": "execute_result"
    }
   ],
   "source": [
    "grist.head()"
   ]
  },
  {
   "cell_type": "code",
   "execution_count": 22,
   "metadata": {},
   "outputs": [
    {
     "name": "stdout",
     "output_type": "stream",
     "text": [
      "ZhangSan : male\n",
      "LiSi : male\n"
     ]
    }
   ],
   "source": [
    "\n",
    "persons={'ZhangSan':'male',\n",
    "         'LiSi':'male',\n",
    "         'WangHong':'female'}\n",
    "\n",
    "#找出所有男性\n",
    "males = filter(lambda x:'male'== x[1], persons.items())\n",
    "\n",
    "for (key,value) in males:\n",
    "    print('%s : %s' % (key,value))\n"
   ]
  },
  {
   "cell_type": "code",
   "execution_count": 42,
   "metadata": {
    "collapsed": true,
    "jupyter": {
     "outputs_hidden": true
    }
   },
   "outputs": [
    {
     "data": {
      "text/plain": [
       "\u001b[0;31mSignature:\u001b[0m\n",
       "\u001b[0mgrist\u001b[0m\u001b[0;34m.\u001b[0m\u001b[0mto_csv\u001b[0m\u001b[0;34m(\u001b[0m\u001b[0;34m\u001b[0m\n",
       "\u001b[0;34m\u001b[0m    \u001b[0mpath_or_buf\u001b[0m\u001b[0;34m=\u001b[0m\u001b[0;32mNone\u001b[0m\u001b[0;34m,\u001b[0m\u001b[0;34m\u001b[0m\n",
       "\u001b[0;34m\u001b[0m    \u001b[0msep\u001b[0m\u001b[0;34m=\u001b[0m\u001b[0;34m','\u001b[0m\u001b[0;34m,\u001b[0m\u001b[0;34m\u001b[0m\n",
       "\u001b[0;34m\u001b[0m    \u001b[0mna_rep\u001b[0m\u001b[0;34m=\u001b[0m\u001b[0;34m''\u001b[0m\u001b[0;34m,\u001b[0m\u001b[0;34m\u001b[0m\n",
       "\u001b[0;34m\u001b[0m    \u001b[0mfloat_format\u001b[0m\u001b[0;34m=\u001b[0m\u001b[0;32mNone\u001b[0m\u001b[0;34m,\u001b[0m\u001b[0;34m\u001b[0m\n",
       "\u001b[0;34m\u001b[0m    \u001b[0mcolumns\u001b[0m\u001b[0;34m=\u001b[0m\u001b[0;32mNone\u001b[0m\u001b[0;34m,\u001b[0m\u001b[0;34m\u001b[0m\n",
       "\u001b[0;34m\u001b[0m    \u001b[0mheader\u001b[0m\u001b[0;34m=\u001b[0m\u001b[0;32mTrue\u001b[0m\u001b[0;34m,\u001b[0m\u001b[0;34m\u001b[0m\n",
       "\u001b[0;34m\u001b[0m    \u001b[0mindex\u001b[0m\u001b[0;34m=\u001b[0m\u001b[0;32mTrue\u001b[0m\u001b[0;34m,\u001b[0m\u001b[0;34m\u001b[0m\n",
       "\u001b[0;34m\u001b[0m    \u001b[0mindex_label\u001b[0m\u001b[0;34m=\u001b[0m\u001b[0;32mNone\u001b[0m\u001b[0;34m,\u001b[0m\u001b[0;34m\u001b[0m\n",
       "\u001b[0;34m\u001b[0m    \u001b[0mmode\u001b[0m\u001b[0;34m=\u001b[0m\u001b[0;34m'w'\u001b[0m\u001b[0;34m,\u001b[0m\u001b[0;34m\u001b[0m\n",
       "\u001b[0;34m\u001b[0m    \u001b[0mencoding\u001b[0m\u001b[0;34m=\u001b[0m\u001b[0;32mNone\u001b[0m\u001b[0;34m,\u001b[0m\u001b[0;34m\u001b[0m\n",
       "\u001b[0;34m\u001b[0m    \u001b[0mcompression\u001b[0m\u001b[0;34m=\u001b[0m\u001b[0;34m'infer'\u001b[0m\u001b[0;34m,\u001b[0m\u001b[0;34m\u001b[0m\n",
       "\u001b[0;34m\u001b[0m    \u001b[0mquoting\u001b[0m\u001b[0;34m=\u001b[0m\u001b[0;32mNone\u001b[0m\u001b[0;34m,\u001b[0m\u001b[0;34m\u001b[0m\n",
       "\u001b[0;34m\u001b[0m    \u001b[0mquotechar\u001b[0m\u001b[0;34m=\u001b[0m\u001b[0;34m'\"'\u001b[0m\u001b[0;34m,\u001b[0m\u001b[0;34m\u001b[0m\n",
       "\u001b[0;34m\u001b[0m    \u001b[0mline_terminator\u001b[0m\u001b[0;34m=\u001b[0m\u001b[0;32mNone\u001b[0m\u001b[0;34m,\u001b[0m\u001b[0;34m\u001b[0m\n",
       "\u001b[0;34m\u001b[0m    \u001b[0mchunksize\u001b[0m\u001b[0;34m=\u001b[0m\u001b[0;32mNone\u001b[0m\u001b[0;34m,\u001b[0m\u001b[0;34m\u001b[0m\n",
       "\u001b[0;34m\u001b[0m    \u001b[0mdate_format\u001b[0m\u001b[0;34m=\u001b[0m\u001b[0;32mNone\u001b[0m\u001b[0;34m,\u001b[0m\u001b[0;34m\u001b[0m\n",
       "\u001b[0;34m\u001b[0m    \u001b[0mdoublequote\u001b[0m\u001b[0;34m=\u001b[0m\u001b[0;32mTrue\u001b[0m\u001b[0;34m,\u001b[0m\u001b[0;34m\u001b[0m\n",
       "\u001b[0;34m\u001b[0m    \u001b[0mescapechar\u001b[0m\u001b[0;34m=\u001b[0m\u001b[0;32mNone\u001b[0m\u001b[0;34m,\u001b[0m\u001b[0;34m\u001b[0m\n",
       "\u001b[0;34m\u001b[0m    \u001b[0mdecimal\u001b[0m\u001b[0;34m=\u001b[0m\u001b[0;34m'.'\u001b[0m\u001b[0;34m,\u001b[0m\u001b[0;34m\u001b[0m\n",
       "\u001b[0;34m\u001b[0m\u001b[0;34m)\u001b[0m\u001b[0;34m\u001b[0m\u001b[0;34m\u001b[0m\u001b[0m\n",
       "\u001b[0;31mDocstring:\u001b[0m\n",
       "Write object to a comma-separated values (csv) file.\n",
       "\n",
       ".. versionchanged:: 0.24.0\n",
       "    The order of arguments for Series was changed.\n",
       "\n",
       "Parameters\n",
       "----------\n",
       "path_or_buf : str or file handle, default None\n",
       "    File path or object, if None is provided the result is returned as\n",
       "    a string.  If a file object is passed it should be opened with\n",
       "    `newline=''`, disabling universal newlines.\n",
       "\n",
       "    .. versionchanged:: 0.24.0\n",
       "\n",
       "       Was previously named \"path\" for Series.\n",
       "\n",
       "sep : str, default ','\n",
       "    String of length 1. Field delimiter for the output file.\n",
       "na_rep : str, default ''\n",
       "    Missing data representation.\n",
       "float_format : str, default None\n",
       "    Format string for floating point numbers.\n",
       "columns : sequence, optional\n",
       "    Columns to write.\n",
       "header : bool or list of str, default True\n",
       "    Write out the column names. If a list of strings is given it is\n",
       "    assumed to be aliases for the column names.\n",
       "\n",
       "    .. versionchanged:: 0.24.0\n",
       "\n",
       "       Previously defaulted to False for Series.\n",
       "\n",
       "index : bool, default True\n",
       "    Write row names (index).\n",
       "index_label : str or sequence, or False, default None\n",
       "    Column label for index column(s) if desired. If None is given, and\n",
       "    `header` and `index` are True, then the index names are used. A\n",
       "    sequence should be given if the object uses MultiIndex. If\n",
       "    False do not print fields for index names. Use index_label=False\n",
       "    for easier importing in R.\n",
       "mode : str\n",
       "    Python write mode, default 'w'.\n",
       "encoding : str, optional\n",
       "    A string representing the encoding to use in the output file,\n",
       "    defaults to 'utf-8'.\n",
       "compression : str, default 'infer'\n",
       "    Compression mode among the following possible values: {'infer',\n",
       "    'gzip', 'bz2', 'zip', 'xz', None}. If 'infer' and `path_or_buf`\n",
       "    is path-like, then detect compression from the following\n",
       "    extensions: '.gz', '.bz2', '.zip' or '.xz'. (otherwise no\n",
       "    compression).\n",
       "\n",
       "    .. versionchanged:: 0.24.0\n",
       "\n",
       "       'infer' option added and set to default.\n",
       "\n",
       "quoting : optional constant from csv module\n",
       "    Defaults to csv.QUOTE_MINIMAL. If you have set a `float_format`\n",
       "    then floats are converted to strings and thus csv.QUOTE_NONNUMERIC\n",
       "    will treat them as non-numeric.\n",
       "quotechar : str, default '\\\"'\n",
       "    String of length 1. Character used to quote fields.\n",
       "line_terminator : str, optional\n",
       "    The newline character or character sequence to use in the output\n",
       "    file. Defaults to `os.linesep`, which depends on the OS in which\n",
       "    this method is called ('\\n' for linux, '\\r\\n' for Windows, i.e.).\n",
       "\n",
       "    .. versionchanged:: 0.24.0\n",
       "chunksize : int or None\n",
       "    Rows to write at a time.\n",
       "date_format : str, default None\n",
       "    Format string for datetime objects.\n",
       "doublequote : bool, default True\n",
       "    Control quoting of `quotechar` inside a field.\n",
       "escapechar : str, default None\n",
       "    String of length 1. Character used to escape `sep` and `quotechar`\n",
       "    when appropriate.\n",
       "decimal : str, default '.'\n",
       "    Character recognized as decimal separator. E.g. use ',' for\n",
       "    European data.\n",
       "\n",
       "Returns\n",
       "-------\n",
       "None or str\n",
       "    If path_or_buf is None, returns the resulting csv format as a\n",
       "    string. Otherwise returns None.\n",
       "\n",
       "See Also\n",
       "--------\n",
       "read_csv : Load a CSV file into a DataFrame.\n",
       "to_excel : Write DataFrame to an Excel file.\n",
       "\n",
       "Examples\n",
       "--------\n",
       ">>> df = pd.DataFrame({'name': ['Raphael', 'Donatello'],\n",
       "...                    'mask': ['red', 'purple'],\n",
       "...                    'weapon': ['sai', 'bo staff']})\n",
       ">>> df.to_csv(index=False)\n",
       "'name,mask,weapon\\nRaphael,red,sai\\nDonatello,purple,bo staff\\n'\n",
       "\u001b[0;31mFile:\u001b[0m      /opt/conda/lib/python3.7/site-packages/pandas/core/generic.py\n",
       "\u001b[0;31mType:\u001b[0m      method\n"
      ]
     },
     "metadata": {},
     "output_type": "display_data"
    }
   ],
   "source": [
    "grist.to_csv?"
   ]
  },
  {
   "cell_type": "code",
   "execution_count": null,
   "metadata": {},
   "outputs": [],
   "source": []
  }
 ],
 "metadata": {
  "kernelspec": {
   "display_name": "Python 3",
   "language": "python",
   "name": "python3"
  },
  "language_info": {
   "codemirror_mode": {
    "name": "ipython",
    "version": 3
   },
   "file_extension": ".py",
   "mimetype": "text/x-python",
   "name": "python",
   "nbconvert_exporter": "python",
   "pygments_lexer": "ipython3",
   "version": "3.7.6"
  }
 },
 "nbformat": 4,
 "nbformat_minor": 4
}
