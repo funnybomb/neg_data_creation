{
 "cells": [
  {
   "cell_type": "code",
   "execution_count": 1,
   "metadata": {},
   "outputs": [],
   "source": [
    "from Bio import pairwise2 as pw"
   ]
  },
  {
   "cell_type": "code",
   "execution_count": 2,
   "metadata": {},
   "outputs": [],
   "source": [
    "from Bio import Seq"
   ]
  },
  {
   "cell_type": "code",
   "execution_count": 3,
   "metadata": {},
   "outputs": [],
   "source": [
    "from Bio import SeqIO \n",
    "import Bio"
   ]
  },
  {
   "cell_type": "code",
   "execution_count": 4,
   "metadata": {},
   "outputs": [],
   "source": [
    "from Bio.Alphabet import IUPAC"
   ]
  },
  {
   "cell_type": "code",
   "execution_count": 16,
   "metadata": {},
   "outputs": [],
   "source": [
    "import numpy as np\n",
    "import pandas as pd\n",
    "import re"
   ]
  },
  {
   "cell_type": "code",
   "execution_count": 6,
   "metadata": {},
   "outputs": [],
   "source": [
    "uniprot = list(SeqIO.parse('uniprot-proteome_human.fasta','fasta'))"
   ]
  },
  {
   "cell_type": "code",
   "execution_count": 7,
   "metadata": {},
   "outputs": [],
   "source": [
    "for seq in uniprot:   #\n",
    "    x = seq.id\n",
    "    seq.id = x.split(\"|\")[1]"
   ]
  },
  {
   "cell_type": "code",
   "execution_count": 8,
   "metadata": {},
   "outputs": [],
   "source": [
    "ids = [seq.id for seq in uniprot]\n",
    "names = [seq.name for seq in uniprot]"
   ]
  },
  {
   "cell_type": "code",
   "execution_count": 9,
   "metadata": {},
   "outputs": [],
   "source": [
    "uni_dict = {}\n",
    "for i in uniprot:\n",
    "    uni_dict[i.id] =i"
   ]
  },
  {
   "cell_type": "code",
   "execution_count": 10,
   "metadata": {},
   "outputs": [],
   "source": [
    "grist = pd.read_table('gristone_positive_data.txt')"
   ]
  },
  {
   "cell_type": "code",
   "execution_count": 11,
   "metadata": {},
   "outputs": [
    {
     "data": {
      "text/html": [
       "<div>\n",
       "<style scoped>\n",
       "    .dataframe tbody tr th:only-of-type {\n",
       "        vertical-align: middle;\n",
       "    }\n",
       "\n",
       "    .dataframe tbody tr th {\n",
       "        vertical-align: top;\n",
       "    }\n",
       "\n",
       "    .dataframe thead th {\n",
       "        text-align: right;\n",
       "    }\n",
       "</style>\n",
       "<table border=\"1\" class=\"dataframe\">\n",
       "  <thead>\n",
       "    <tr style=\"text-align: right;\">\n",
       "      <th></th>\n",
       "      <th>uniport_id</th>\n",
       "      <th>peptide</th>\n",
       "      <th>left_flanking</th>\n",
       "      <th>right_flanking</th>\n",
       "      <th>sample_id</th>\n",
       "      <th>ensembl_gene_id</th>\n",
       "      <th>express_sum_tpm</th>\n",
       "      <th>family</th>\n",
       "      <th>A1</th>\n",
       "      <th>B1</th>\n",
       "      <th>C1</th>\n",
       "      <th>A2</th>\n",
       "      <th>B2</th>\n",
       "      <th>C2</th>\n",
       "      <th>label</th>\n",
       "    </tr>\n",
       "  </thead>\n",
       "  <tbody>\n",
       "    <tr>\n",
       "      <th>0</th>\n",
       "      <td>P62424</td>\n",
       "      <td>KVAPAPAVVKK</td>\n",
       "      <td>KAKGK</td>\n",
       "      <td>QEAKK</td>\n",
       "      <td>train_sample_28</td>\n",
       "      <td>ENSG00000148303</td>\n",
       "      <td>397.13</td>\n",
       "      <td>PTHR23105_SF29</td>\n",
       "      <td>A*03:01</td>\n",
       "      <td>B*35:03</td>\n",
       "      <td>C*03:03</td>\n",
       "      <td>A*03:01</td>\n",
       "      <td>B*51:01</td>\n",
       "      <td>C*04:01</td>\n",
       "      <td>1</td>\n",
       "    </tr>\n",
       "    <tr>\n",
       "      <th>1</th>\n",
       "      <td>germline-TAOK3-NM_016281-140-G-to-A-S47N-Ser47...</td>\n",
       "      <td>HTNEVVAIKK</td>\n",
       "      <td>FATNA</td>\n",
       "      <td>MSYSG</td>\n",
       "      <td>train_sample_28</td>\n",
       "      <td>ENSG00000135090</td>\n",
       "      <td>21.64</td>\n",
       "      <td>PTHR24361_SF187</td>\n",
       "      <td>A*03:01</td>\n",
       "      <td>B*35:03</td>\n",
       "      <td>C*03:03</td>\n",
       "      <td>A*03:01</td>\n",
       "      <td>B*51:01</td>\n",
       "      <td>C*04:01</td>\n",
       "      <td>1</td>\n",
       "    </tr>\n",
       "    <tr>\n",
       "      <th>2</th>\n",
       "      <td>Q460N5</td>\n",
       "      <td>RLLPGNATISK</td>\n",
       "      <td>VKREG</td>\n",
       "      <td>AGKLP</td>\n",
       "      <td>train_sample_28</td>\n",
       "      <td>ENSG00000173193</td>\n",
       "      <td>26.23</td>\n",
       "      <td>PTHR14453_SF53</td>\n",
       "      <td>A*03:01</td>\n",
       "      <td>B*35:03</td>\n",
       "      <td>C*03:03</td>\n",
       "      <td>A*03:01</td>\n",
       "      <td>B*51:01</td>\n",
       "      <td>C*04:01</td>\n",
       "      <td>1</td>\n",
       "    </tr>\n",
       "    <tr>\n",
       "      <th>3</th>\n",
       "      <td>O15511</td>\n",
       "      <td>ALKNPPINTK</td>\n",
       "      <td>AALQA</td>\n",
       "      <td>SQAVK</td>\n",
       "      <td>train_sample_28</td>\n",
       "      <td>ENSG00000162704</td>\n",
       "      <td>79.10</td>\n",
       "      <td>PTHR12644_SF1</td>\n",
       "      <td>A*03:01</td>\n",
       "      <td>B*35:03</td>\n",
       "      <td>C*03:03</td>\n",
       "      <td>A*03:01</td>\n",
       "      <td>B*51:01</td>\n",
       "      <td>C*04:01</td>\n",
       "      <td>1</td>\n",
       "    </tr>\n",
       "    <tr>\n",
       "      <th>4</th>\n",
       "      <td>P09234</td>\n",
       "      <td>MPVGPAPGM</td>\n",
       "      <td>PPPGM</td>\n",
       "      <td>RPPMG</td>\n",
       "      <td>train_sample_28</td>\n",
       "      <td>ENSG00000124562</td>\n",
       "      <td>40.97</td>\n",
       "      <td>PTHR31148_SF1</td>\n",
       "      <td>A*03:01</td>\n",
       "      <td>B*35:03</td>\n",
       "      <td>C*03:03</td>\n",
       "      <td>A*03:01</td>\n",
       "      <td>B*51:01</td>\n",
       "      <td>C*04:01</td>\n",
       "      <td>1</td>\n",
       "    </tr>\n",
       "  </tbody>\n",
       "</table>\n",
       "</div>"
      ],
      "text/plain": [
       "                                          uniport_id      peptide  \\\n",
       "0                                             P62424  KVAPAPAVVKK   \n",
       "1  germline-TAOK3-NM_016281-140-G-to-A-S47N-Ser47...   HTNEVVAIKK   \n",
       "2                                             Q460N5  RLLPGNATISK   \n",
       "3                                             O15511   ALKNPPINTK   \n",
       "4                                             P09234    MPVGPAPGM   \n",
       "\n",
       "  left_flanking right_flanking        sample_id  ensembl_gene_id  \\\n",
       "0         KAKGK          QEAKK  train_sample_28  ENSG00000148303   \n",
       "1         FATNA          MSYSG  train_sample_28  ENSG00000135090   \n",
       "2         VKREG          AGKLP  train_sample_28  ENSG00000173193   \n",
       "3         AALQA          SQAVK  train_sample_28  ENSG00000162704   \n",
       "4         PPPGM          RPPMG  train_sample_28  ENSG00000124562   \n",
       "\n",
       "   express_sum_tpm           family       A1       B1       C1       A2  \\\n",
       "0           397.13   PTHR23105_SF29  A*03:01  B*35:03  C*03:03  A*03:01   \n",
       "1            21.64  PTHR24361_SF187  A*03:01  B*35:03  C*03:03  A*03:01   \n",
       "2            26.23   PTHR14453_SF53  A*03:01  B*35:03  C*03:03  A*03:01   \n",
       "3            79.10    PTHR12644_SF1  A*03:01  B*35:03  C*03:03  A*03:01   \n",
       "4            40.97    PTHR31148_SF1  A*03:01  B*35:03  C*03:03  A*03:01   \n",
       "\n",
       "        B2       C2  label  \n",
       "0  B*51:01  C*04:01      1  \n",
       "1  B*51:01  C*04:01      1  \n",
       "2  B*51:01  C*04:01      1  \n",
       "3  B*51:01  C*04:01      1  \n",
       "4  B*51:01  C*04:01      1  "
      ]
     },
     "execution_count": 11,
     "metadata": {},
     "output_type": "execute_result"
    }
   ],
   "source": [
    "grist.head(5)"
   ]
  },
  {
   "cell_type": "code",
   "execution_count": 12,
   "metadata": {},
   "outputs": [],
   "source": [
    "def calc_identity_score(seq1,seq2,gap=-0.5,extend=-0.1):\n",
    "    \"\"\"\n",
    "    return seq1 seq1 pairwise identiy score\n",
    "    seq1 is positive \n",
    "    seq1 seq2 is string\n",
    "\n",
    "    Bio.pairwise2.format_alignment output:\n",
    "    MPKGKKAKG------\n",
    "      |||||||      \n",
    "    --KGKKAKGKKVAPA\n",
    "      Score=7\n",
    "      \n",
    "    alignment output: [('MPKGKKAKG------', '--KGKKAKGKKVAPA', 7.0, 0, 15)]\n",
    "    score = ali[0][2] = 7\n",
    "    \"\"\"\n",
    "    ali = pw.align.globalxs(seq1,seq2,gap,extend,score_only=True)\n",
    "    # gap penalty = -0.5 in case of cak caak score =3\n",
    "    return ali/min(len(seq1),len(seq2)) # 返回短序列的值,防止substring"
   ]
  },
  {
   "cell_type": "code",
   "execution_count": 13,
   "metadata": {},
   "outputs": [],
   "source": [
    "def window(seq, window_lenth=7,step=1):\n",
    "    \"\"\"\n",
    "    return list of seq window slide\n",
    "    seq is string\n",
    "    \"\"\"\n",
    "    return [seq[i:i+window_lenth] for i in range(0,len(seq)-window_lenth+1,step)]"
   ]
  },
  {
   "cell_type": "code",
   "execution_count": 14,
   "metadata": {},
   "outputs": [],
   "source": [
    "from Bio.pairwise2 import format_alignment"
   ]
  },
  {
   "cell_type": "code",
   "execution_count": 17,
   "metadata": {},
   "outputs": [],
   "source": [
    "def search_all(pattern,string, flags=0):\n",
    "    \"\"\"\n",
    "    return all matched pattern index\n",
    "    \"\"\"\n",
    "    res=[]\n",
    "    while len(string)>0:\n",
    "        sobj=re.search(pattern, string, flags)\n",
    "        if not sobj:\n",
    "            break\n",
    "        span=sobj.span()\n",
    "        res.append((span[0],span[1]))\n",
    "        string=string[span[0]+1:]\n",
    "    return res"
   ]
  },
  {
   "cell_type": "code",
   "execution_count": 18,
   "metadata": {},
   "outputs": [],
   "source": [
    "def flat(nums):\n",
    "    res = []\n",
    "    for i in nums:\n",
    "        if isinstance(i, list):\n",
    "            res.extend(flat(i))\n",
    "        else:\n",
    "            res.append(i)\n",
    "    return res"
   ]
  },
  {
   "cell_type": "code",
   "execution_count": 19,
   "metadata": {},
   "outputs": [],
   "source": [
    "def slide_with_flank(seq,full,step=1,up_flank=6,down_flank=6,flags=0):\n",
    "    \"\"\"\n",
    "    return window slide result as list for a full str given potential seq and it's flank removed\n",
    "    seq=abc, full = 01234abc45678abc1234 up=1 down=1 step =1\n",
    "    result is ['012', '123', '567', '234']\n",
    "    \"\"\"\n",
    "    res = []\n",
    "    window_len = len(seq)\n",
    "\n",
    "    if len(full) >= window_len:\n",
    "        sobj = re.search(seq,full,flags)\n",
    "        if not sobj: ## 没找到seq 直接返回slide \n",
    "            res.append(window(full,window_lenth=window_len,step=step))\n",
    "            \n",
    "        else:\n",
    "            span = sobj.span()\n",
    "            if (span[0]-up_flank>0) and (len(full[0:span[0]-up_flank]) >= window_len) :\n",
    "                # 上游剩下的区域长度大于等于seq的长度\n",
    "                res.append(window(full[0:span[0]-up_flank],window_lenth=window_len))\n",
    "            #下游max(up,down)+window_lenth-1的full中有seq的话去掉\n",
    "            #if\n",
    "            if (span[1]+down_flank<len(full)) and (len(full[span[1]+down_flank:]) >= window_len): \n",
    "                # 下游剩下的区域长度大于等于seq的长度\n",
    "                res.append(slide_with_flank(seq,full[span[1]+down_flank:],step=step,\n",
    "                           up_flank=up_flank,down_flank=down_flank,flags=flags))\n",
    "    return flat(res)"
   ]
  },
  {
   "cell_type": "code",
   "execution_count": 20,
   "metadata": {},
   "outputs": [
    {
     "data": {
      "text/plain": [
       "['bc1', 'c12', '123', '234']"
      ]
     },
     "execution_count": 20,
     "metadata": {},
     "output_type": "execute_result"
    }
   ],
   "source": [
    "slide_with_flank('abc','01234abc45678abc1234',up_flank=6,down_flank=6)"
   ]
  },
  {
   "cell_type": "code",
   "execution_count": 21,
   "metadata": {},
   "outputs": [],
   "source": [
    "def filter_with_identity_affinity(seq,full,identity_cutoff=0.5,step=1,up=6,down=6,flags=0):\n",
    "    filtered = {}\n",
    "    slides = slide_with_flank(seq,full,step=step,up_flank=up,down_flank=down,flags=flags)\n",
    "    for s in slides:\n",
    "        identity_score = calc_identity_score(seq,s)\n",
    "        if identity_score <= identity_cutoff:\n",
    "            #if s in filtered.keys(): #已经有score, 寸大值表明有大片段\n",
    "            filtered[s] = identity_score\n",
    "    return filtered"
   ]
  },
  {
   "cell_type": "code",
   "execution_count": null,
   "metadata": {},
   "outputs": [],
   "source": [
    "for i in range(0,len(grist),10000):\n",
    "    g = grist.iloc[i]\n",
    "    if g['uniport_id'] in ids:\n",
    "        full = str(uni_dict[g['uniport_id']].seq)\n",
    "        res_local = filter_with_identity_affinity(g['peptide'],full)\n",
    "        res_full = {}\n",
    "        for win in res_local.keys(): # 过滤掉阳性集在window结果中 identity>0.5的\n",
    "            for pep in np.random.choice(grist['peptide'],10):#.remove(g['peptide']):\n",
    "                score = calc_identity_score(win,pep)\n",
    "                if score <0.5:\n",
    "                    res_full[win] = score\n",
    "                else:\n",
    "                    break\n",
    "        res_full_key = sorted(res_full.keys(),key=lambda x:(res_local[x],res_full[x]))\n",
    "        grist.loc[i,'neg1'] = res_full_key[0]"
   ]
  },
  {
   "cell_type": "code",
   "execution_count": 244,
   "metadata": {},
   "outputs": [],
   "source": [
    "grist[]"
   ]
  },
  {
   "cell_type": "code",
   "execution_count": null,
   "metadata": {},
   "outputs": [],
   "source": [
    "grist['neg1'] "
   ]
  },
  {
   "cell_type": "code",
   "execution_count": 23,
   "metadata": {},
   "outputs": [
    {
     "name": "stdout",
     "output_type": "stream",
     "text": [
      "ZhangSan : male\n",
      "LiSi : male\n"
     ]
    }
   ],
   "source": [
    "\n",
    "persons={'ZhangSan':'male',\n",
    "         'LiSi':'male',\n",
    "         'WangHong':'female'}\n",
    "\n",
    "#找出所有男性\n",
    "males = filter(lambda x:'male'== x[1], persons.items())\n",
    "\n",
    "for (key,value) in males:\n",
    "    print('%s : %s' % (key,value))\n"
   ]
  }
 ],
 "metadata": {
  "kernelspec": {
   "display_name": "Python 3",
   "language": "python",
   "name": "python3"
  },
  "language_info": {
   "codemirror_mode": {
    "name": "ipython",
    "version": 3
   },
   "file_extension": ".py",
   "mimetype": "text/x-python",
   "name": "python",
   "nbconvert_exporter": "python",
   "pygments_lexer": "ipython3",
   "version": "3.7.6"
  }
 },
 "nbformat": 4,
 "nbformat_minor": 4
}
