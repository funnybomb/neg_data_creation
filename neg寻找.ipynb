{
 "cells": [
  {
   "cell_type": "code",
   "execution_count": null,
   "metadata": {},
   "outputs": [],
   "source": [
    "import Bio"
   ]
  },
  {
   "cell_type": "code",
   "execution_count": 3,
   "metadata": {},
   "outputs": [],
   "source": [
    "from Bio import SeqIO\n"
   ]
  },
  {
   "cell_type": "code",
   "execution_count": 8,
   "metadata": {},
   "outputs": [],
   "source": [
    "import os"
   ]
  },
  {
   "cell_type": "code",
   "execution_count": 9,
   "metadata": {},
   "outputs": [],
   "source": [
    "from Bio.Seq import Seq"
   ]
  },
  {
   "cell_type": "code",
   "execution_count": null,
   "metadata": {},
   "outputs": [],
   "source": [
    "from Bio.Alphabet import IUPAC"
   ]
  },
  {
   "cell_type": "code",
   "execution_count": 11,
   "metadata": {},
   "outputs": [
    {
     "data": {
      "text/plain": [
       "\u001b[0;31mType:\u001b[0m        module\n",
       "\u001b[0;31mString form:\u001b[0m <module 'Bio.Alphabet.IUPAC' from '/opt/conda/lib/python3.7/site-packages/Bio/Alphabet/IUPAC.py'>\n",
       "\u001b[0;31mFile:\u001b[0m        /opt/conda/lib/python3.7/site-packages/Bio/Alphabet/IUPAC.py\n",
       "\u001b[0;31mDocstring:\u001b[0m   Standard nucleotide and protein alphabets defined by IUPAC.\n"
      ]
     },
     "metadata": {},
     "output_type": "display_data"
    }
   ],
   "source": [
    "IUPAC?"
   ]
  },
  {
   "cell_type": "code",
   "execution_count": 12,
   "metadata": {},
   "outputs": [
    {
     "data": {
      "text/plain": [
       "['Alphabet',\n",
       " 'ExtendedIUPACDNA',\n",
       " 'ExtendedIUPACProtein',\n",
       " 'IUPACAmbiguousDNA',\n",
       " 'IUPACAmbiguousRNA',\n",
       " 'IUPACData',\n",
       " 'IUPACProtein',\n",
       " 'IUPACUnambiguousDNA',\n",
       " 'IUPACUnambiguousRNA',\n",
       " '__builtins__',\n",
       " '__cached__',\n",
       " '__doc__',\n",
       " '__file__',\n",
       " '__loader__',\n",
       " '__name__',\n",
       " '__package__',\n",
       " '__spec__',\n",
       " 'ambiguous_dna',\n",
       " 'ambiguous_rna',\n",
       " 'extended_dna',\n",
       " 'extended_protein',\n",
       " 'protein',\n",
       " 'unambiguous_dna',\n",
       " 'unambiguous_rna']"
      ]
     },
     "execution_count": 12,
     "metadata": {},
     "output_type": "execute_result"
    }
   ],
   "source": [
    "dir(IUPAC)"
   ]
  },
  {
   "cell_type": "code",
   "execution_count": 13,
   "metadata": {},
   "outputs": [],
   "source": [
    "my_seq = Seq(\"GATCG\", IUPAC.unambiguous_dna)"
   ]
  },
  {
   "cell_type": "code",
   "execution_count": 14,
   "metadata": {},
   "outputs": [
    {
     "data": {
      "text/plain": [
       "Seq('GATCG', IUPACUnambiguousDNA())"
      ]
     },
     "execution_count": 14,
     "metadata": {},
     "output_type": "execute_result"
    }
   ],
   "source": [
    "my_seq"
   ]
  },
  {
   "cell_type": "code",
   "execution_count": 15,
   "metadata": {},
   "outputs": [],
   "source": [
    " from Bio import SeqIO"
   ]
  },
  {
   "cell_type": "code",
   "execution_count": 21,
   "metadata": {},
   "outputs": [
    {
     "ename": "KeyError",
     "evalue": "'P33487'",
     "output_type": "error",
     "traceback": [
      "\u001b[0;31m\u001b[0m",
      "\u001b[0;31mKeyError\u001b[0mTraceback (most recent call last)",
      "\u001b[0;32m<ipython-input-21-70c5d6db5b75>\u001b[0m in \u001b[0;36m<module>\u001b[0;34m\u001b[0m\n\u001b[1;32m      1\u001b[0m \u001b[0;32mfor\u001b[0m \u001b[0macc\u001b[0m \u001b[0;32min\u001b[0m \u001b[0;34m[\u001b[0m\u001b[0;34m\"P33487\"\u001b[0m\u001b[0;34m,\u001b[0m \u001b[0;34m\"P19801\"\u001b[0m\u001b[0;34m,\u001b[0m \u001b[0;34m\"P13689\"\u001b[0m\u001b[0;34m,\u001b[0m \u001b[0;34m\"Q8JZQ5\"\u001b[0m\u001b[0;34m,\u001b[0m \u001b[0;34m\"Q9TRC7\"\u001b[0m\u001b[0;34m]\u001b[0m\u001b[0;34m:\u001b[0m\u001b[0;34m\u001b[0m\u001b[0;34m\u001b[0m\u001b[0m\n\u001b[0;32m----> 2\u001b[0;31m     \u001b[0mprint\u001b[0m\u001b[0;34m(\u001b[0m\u001b[0muniprot\u001b[0m\u001b[0;34m.\u001b[0m\u001b[0mget_raw\u001b[0m\u001b[0;34m(\u001b[0m\u001b[0macc\u001b[0m\u001b[0;34m)\u001b[0m\u001b[0;34m)\u001b[0m\u001b[0;34m\u001b[0m\u001b[0;34m\u001b[0m\u001b[0m\n\u001b[0m",
      "\u001b[0;32m/opt/conda/lib/python3.7/site-packages/Bio/File.py\u001b[0m in \u001b[0;36mget_raw\u001b[0;34m(self, key)\u001b[0m\n\u001b[1;32m    448\u001b[0m         \"\"\"\n\u001b[1;32m    449\u001b[0m         \u001b[0;31m# Pass the offset to the proxy\u001b[0m\u001b[0;34m\u001b[0m\u001b[0;34m\u001b[0m\u001b[0;34m\u001b[0m\u001b[0m\n\u001b[0;32m--> 450\u001b[0;31m         \u001b[0;32mreturn\u001b[0m \u001b[0mself\u001b[0m\u001b[0;34m.\u001b[0m\u001b[0m_proxy\u001b[0m\u001b[0;34m.\u001b[0m\u001b[0mget_raw\u001b[0m\u001b[0;34m(\u001b[0m\u001b[0mself\u001b[0m\u001b[0;34m.\u001b[0m\u001b[0m_offsets\u001b[0m\u001b[0;34m[\u001b[0m\u001b[0mkey\u001b[0m\u001b[0;34m]\u001b[0m\u001b[0;34m)\u001b[0m\u001b[0;34m\u001b[0m\u001b[0;34m\u001b[0m\u001b[0m\n\u001b[0m\u001b[1;32m    451\u001b[0m \u001b[0;34m\u001b[0m\u001b[0m\n\u001b[1;32m    452\u001b[0m     \u001b[0;32mdef\u001b[0m \u001b[0m__setitem__\u001b[0m\u001b[0;34m(\u001b[0m\u001b[0mself\u001b[0m\u001b[0;34m,\u001b[0m \u001b[0mkey\u001b[0m\u001b[0;34m,\u001b[0m \u001b[0mvalue\u001b[0m\u001b[0;34m)\u001b[0m\u001b[0;34m:\u001b[0m\u001b[0;34m\u001b[0m\u001b[0;34m\u001b[0m\u001b[0m\n",
      "\u001b[0;31mKeyError\u001b[0m: 'P33487'"
     ]
    }
   ],
   "source": [
    "for acc in [\"P33487\", \"P19801\", \"P13689\", \"Q8JZQ5\", \"Q9TRC7\"]:\n",
    "    print(uniprot.get_raw(acc))"
   ]
  },
  {
   "cell_type": "code",
   "execution_count": 23,
   "metadata": {},
   "outputs": [],
   "source": [
    "import pandas as pd"
   ]
  },
  {
   "cell_type": "code",
   "execution_count": 25,
   "metadata": {},
   "outputs": [],
   "source": [
    "grist = pd.read_table('gristone_positive_data.txt')"
   ]
  },
  {
   "cell_type": "code",
   "execution_count": 27,
   "metadata": {},
   "outputs": [
    {
     "data": {
      "text/html": [
       "<div>\n",
       "<style scoped>\n",
       "    .dataframe tbody tr th:only-of-type {\n",
       "        vertical-align: middle;\n",
       "    }\n",
       "\n",
       "    .dataframe tbody tr th {\n",
       "        vertical-align: top;\n",
       "    }\n",
       "\n",
       "    .dataframe thead th {\n",
       "        text-align: right;\n",
       "    }\n",
       "</style>\n",
       "<table border=\"1\" class=\"dataframe\">\n",
       "  <thead>\n",
       "    <tr style=\"text-align: right;\">\n",
       "      <th></th>\n",
       "      <th>uniport_id</th>\n",
       "      <th>peptide</th>\n",
       "      <th>left_flanking</th>\n",
       "      <th>right_flanking</th>\n",
       "      <th>sample_id</th>\n",
       "      <th>ensembl_gene_id</th>\n",
       "      <th>express_sum_tpm</th>\n",
       "      <th>family</th>\n",
       "      <th>A1</th>\n",
       "      <th>B1</th>\n",
       "      <th>C1</th>\n",
       "      <th>A2</th>\n",
       "      <th>B2</th>\n",
       "      <th>C2</th>\n",
       "      <th>label</th>\n",
       "    </tr>\n",
       "  </thead>\n",
       "  <tbody>\n",
       "    <tr>\n",
       "      <th>0</th>\n",
       "      <td>P62424</td>\n",
       "      <td>KVAPAPAVVKK</td>\n",
       "      <td>KAKGK</td>\n",
       "      <td>QEAKK</td>\n",
       "      <td>train_sample_28</td>\n",
       "      <td>ENSG00000148303</td>\n",
       "      <td>397.13</td>\n",
       "      <td>PTHR23105_SF29</td>\n",
       "      <td>A*03:01</td>\n",
       "      <td>B*35:03</td>\n",
       "      <td>C*03:03</td>\n",
       "      <td>A*03:01</td>\n",
       "      <td>B*51:01</td>\n",
       "      <td>C*04:01</td>\n",
       "      <td>1</td>\n",
       "    </tr>\n",
       "    <tr>\n",
       "      <th>1</th>\n",
       "      <td>germline-TAOK3-NM_016281-140-G-to-A-S47N-Ser47...</td>\n",
       "      <td>HTNEVVAIKK</td>\n",
       "      <td>FATNA</td>\n",
       "      <td>MSYSG</td>\n",
       "      <td>train_sample_28</td>\n",
       "      <td>ENSG00000135090</td>\n",
       "      <td>21.64</td>\n",
       "      <td>PTHR24361_SF187</td>\n",
       "      <td>A*03:01</td>\n",
       "      <td>B*35:03</td>\n",
       "      <td>C*03:03</td>\n",
       "      <td>A*03:01</td>\n",
       "      <td>B*51:01</td>\n",
       "      <td>C*04:01</td>\n",
       "      <td>1</td>\n",
       "    </tr>\n",
       "    <tr>\n",
       "      <th>2</th>\n",
       "      <td>Q460N5</td>\n",
       "      <td>RLLPGNATISK</td>\n",
       "      <td>VKREG</td>\n",
       "      <td>AGKLP</td>\n",
       "      <td>train_sample_28</td>\n",
       "      <td>ENSG00000173193</td>\n",
       "      <td>26.23</td>\n",
       "      <td>PTHR14453_SF53</td>\n",
       "      <td>A*03:01</td>\n",
       "      <td>B*35:03</td>\n",
       "      <td>C*03:03</td>\n",
       "      <td>A*03:01</td>\n",
       "      <td>B*51:01</td>\n",
       "      <td>C*04:01</td>\n",
       "      <td>1</td>\n",
       "    </tr>\n",
       "    <tr>\n",
       "      <th>3</th>\n",
       "      <td>O15511</td>\n",
       "      <td>ALKNPPINTK</td>\n",
       "      <td>AALQA</td>\n",
       "      <td>SQAVK</td>\n",
       "      <td>train_sample_28</td>\n",
       "      <td>ENSG00000162704</td>\n",
       "      <td>79.10</td>\n",
       "      <td>PTHR12644_SF1</td>\n",
       "      <td>A*03:01</td>\n",
       "      <td>B*35:03</td>\n",
       "      <td>C*03:03</td>\n",
       "      <td>A*03:01</td>\n",
       "      <td>B*51:01</td>\n",
       "      <td>C*04:01</td>\n",
       "      <td>1</td>\n",
       "    </tr>\n",
       "    <tr>\n",
       "      <th>4</th>\n",
       "      <td>P09234</td>\n",
       "      <td>MPVGPAPGM</td>\n",
       "      <td>PPPGM</td>\n",
       "      <td>RPPMG</td>\n",
       "      <td>train_sample_28</td>\n",
       "      <td>ENSG00000124562</td>\n",
       "      <td>40.97</td>\n",
       "      <td>PTHR31148_SF1</td>\n",
       "      <td>A*03:01</td>\n",
       "      <td>B*35:03</td>\n",
       "      <td>C*03:03</td>\n",
       "      <td>A*03:01</td>\n",
       "      <td>B*51:01</td>\n",
       "      <td>C*04:01</td>\n",
       "      <td>1</td>\n",
       "    </tr>\n",
       "  </tbody>\n",
       "</table>\n",
       "</div>"
      ],
      "text/plain": [
       "                                          uniport_id      peptide  \\\n",
       "0                                             P62424  KVAPAPAVVKK   \n",
       "1  germline-TAOK3-NM_016281-140-G-to-A-S47N-Ser47...   HTNEVVAIKK   \n",
       "2                                             Q460N5  RLLPGNATISK   \n",
       "3                                             O15511   ALKNPPINTK   \n",
       "4                                             P09234    MPVGPAPGM   \n",
       "\n",
       "  left_flanking right_flanking        sample_id  ensembl_gene_id  \\\n",
       "0         KAKGK          QEAKK  train_sample_28  ENSG00000148303   \n",
       "1         FATNA          MSYSG  train_sample_28  ENSG00000135090   \n",
       "2         VKREG          AGKLP  train_sample_28  ENSG00000173193   \n",
       "3         AALQA          SQAVK  train_sample_28  ENSG00000162704   \n",
       "4         PPPGM          RPPMG  train_sample_28  ENSG00000124562   \n",
       "\n",
       "   express_sum_tpm           family       A1       B1       C1       A2  \\\n",
       "0           397.13   PTHR23105_SF29  A*03:01  B*35:03  C*03:03  A*03:01   \n",
       "1            21.64  PTHR24361_SF187  A*03:01  B*35:03  C*03:03  A*03:01   \n",
       "2            26.23   PTHR14453_SF53  A*03:01  B*35:03  C*03:03  A*03:01   \n",
       "3            79.10    PTHR12644_SF1  A*03:01  B*35:03  C*03:03  A*03:01   \n",
       "4            40.97    PTHR31148_SF1  A*03:01  B*35:03  C*03:03  A*03:01   \n",
       "\n",
       "        B2       C2  label  \n",
       "0  B*51:01  C*04:01      1  \n",
       "1  B*51:01  C*04:01      1  \n",
       "2  B*51:01  C*04:01      1  \n",
       "3  B*51:01  C*04:01      1  \n",
       "4  B*51:01  C*04:01      1  "
      ]
     },
     "execution_count": 27,
     "metadata": {},
     "output_type": "execute_result"
    }
   ],
   "source": [
    "grist.head()"
   ]
  },
  {
   "cell_type": "code",
   "execution_count": 30,
   "metadata": {
    "collapsed": true,
    "jupyter": {
     "outputs_hidden": true
    }
   },
   "outputs": [
    {
     "name": "stdout",
     "output_type": "stream",
     "text": [
      "sp|P78410|BT3A2_HUMAN\n",
      "Seq('MKMASSLAFLLLNFHVSLLLVQLLTPCSAQFSVLGPSGPILAMVGEDADLPCHL...KSA', SingleLetterAlphabet())\n",
      "334\n",
      "sp|P78410-2|BT3A2_HUMAN\n",
      "Seq('MGIPRAQFSVLGPSGPILAMVGEDADLPCHLFPTMSAETMELKWVSSSLRQVVN...KSA', SingleLetterAlphabet())\n",
      "311\n",
      "sp|P78410-3|BT3A2_HUMAN\n",
      "Seq('MVGEDADLPCHLFPTMSAETMELKWVSSSLRQVVNVYADGKEVEDRQSAPYRGR...KSA', SingleLetterAlphabet())\n",
      "292\n",
      "sp|Q8TDQ1|CLM1_HUMAN\n",
      "Seq('MPLLTLYLLLFWLSGYSIVTQITGPTTVNGLERGSLTVQCVYRSGWETYLKWWC...SRP', SingleLetterAlphabet())\n",
      "290\n",
      "sp|Q8TDQ1-2|CLM1_HUMAN\n",
      "Seq('MWLPQLDLMRVISAKSQGYSIVTQITGPTTVNGLERGSLTVQCVYRSGWETYLK...CPG', SingleLetterAlphabet())\n",
      "239\n",
      "sp|Q8TDQ1-3|CLM1_HUMAN\n",
      "Seq('MWLPQLDLMRVISAKSQGYSIVTQITGPTTVNGLERGSLTVQCVYRSGWETYLK...MQT', SingleLetterAlphabet())\n",
      "165\n",
      "sp|Q8TDQ1-4|CLM1_HUMAN\n",
      "Seq('MWLPQLDLMRVISAKSQGYSIVTQITGPTTVNGLERGSLTVQCVYRSGWETYLK...CPG', SingleLetterAlphabet())\n",
      "194\n",
      "sp|Q8TDQ1-5|CLM1_HUMAN\n",
      "Seq('MPLLTLYLLLFWLSGYSIVTQITGPTTVNGLERGSLTVQCVYRSGWETYLKWWC...CPG', SingleLetterAlphabet())\n",
      "244\n",
      "sp|Q8TDQ1-6|CLM1_HUMAN\n",
      "Seq('MWLPQLDLMRVISAKSQGYSIVTQITGPTTVNGLERGSLTVQCVYRSGWETYLK...SRP', SingleLetterAlphabet())\n",
      "293\n",
      "sp|A4QMS7|CE049_HUMAN\n",
      "Seq('MEDDEEETTASTLRGKPRPPPVSAQSAFSYIPPRRLDPKEHSYYYRPARTGIIS...APS', SingleLetterAlphabet())\n",
      "147\n"
     ]
    }
   ],
   "source": [
    "n=0\n",
    "for seq in SeqIO.parse('uniprot-proteome_human.fasta','fasta'):\n",
    "    n=n+1\n",
    "    if n >10:\n",
    "        break\n",
    "    print(seq.id)\n",
    "    print(repr(seq.seq))\n",
    "    print(len(seq))"
   ]
  },
  {
   "cell_type": "code",
   "execution_count": 31,
   "metadata": {},
   "outputs": [],
   "source": [
    "ids = [seq.id for seq in SeqIO.parse('uniprot-proteome_human.fasta','fasta')]\n",
    "\n",
    "names = [seq.name for seq in SeqIO.parse('uniprot-proteome_human.fasta','fasta')]"
   ]
  },
  {
   "cell_type": "code",
   "execution_count": 33,
   "metadata": {},
   "outputs": [],
   "source": [
    "import numpy as np"
   ]
  },
  {
   "cell_type": "code",
   "execution_count": 35,
   "metadata": {},
   "outputs": [
    {
     "data": {
      "text/plain": [
       "array(['tr|A0A0A0MSE3|A0A0A0MSE3_HUMAN', 'tr|E9PD61|E9PD61_HUMAN',\n",
       "       'sp|P01111|RASN_HUMAN', 'tr|X6R5G7|X6R5G7_HUMAN',\n",
       "       'sp|Q9P2D6-4|F135A_HUMAN', 'sp|Q5TGY1-2|TMCO4_HUMAN',\n",
       "       'sp|Q7Z2Q7|LRR70_HUMAN', 'tr|F8VZR6|F8VZR6_HUMAN',\n",
       "       'sp|Q9P0L0-2|VAPA_HUMAN', 'tr|A0A2R8YE00|A0A2R8YE00_HUMAN'],\n",
       "      dtype='<U30')"
      ]
     },
     "execution_count": 35,
     "metadata": {},
     "output_type": "execute_result"
    }
   ],
   "source": [
    "np.random.choice(ids,10)"
   ]
  },
  {
   "cell_type": "code",
   "execution_count": 37,
   "metadata": {},
   "outputs": [
    {
     "data": {
      "text/plain": [
       "array(['tr|F8W705|F8W705_HUMAN', 'tr|K7EK01|K7EK01_HUMAN',\n",
       "       'tr|A0A0A0MSS4|A0A0A0MSS4_HUMAN', 'sp|Q15560-2|TCEA2_HUMAN',\n",
       "       'tr|J3QSG9|J3QSG9_HUMAN', 'sp|Q9Y257|KCNK6_HUMAN',\n",
       "       'sp|Q96BI3-2|APH1A_HUMAN', 'sp|P62070-3|RRAS2_HUMAN',\n",
       "       'tr|J3QQP1|J3QQP1_HUMAN', 'tr|U3KQT4|U3KQT4_HUMAN'], dtype='<U30')"
      ]
     },
     "execution_count": 37,
     "metadata": {},
     "output_type": "execute_result"
    }
   ],
   "source": [
    "np.random.choice(names,10)"
   ]
  },
  {
   "cell_type": "code",
   "execution_count": 38,
   "metadata": {},
   "outputs": [],
   "source": [
    "uniprot = list(SeqIO.parse('uniprot-proteome_human.fasta','fasta'))"
   ]
  },
  {
   "cell_type": "code",
   "execution_count": 39,
   "metadata": {},
   "outputs": [
    {
     "data": {
      "text/plain": [
       "96041"
      ]
     },
     "execution_count": 39,
     "metadata": {},
     "output_type": "execute_result"
    }
   ],
   "source": [
    "len(uniprot)"
   ]
  },
  {
   "cell_type": "code",
   "execution_count": 46,
   "metadata": {},
   "outputs": [
    {
     "name": "stdout",
     "output_type": "stream",
     "text": [
      "ID: P78410\n",
      "Name: sp|P78410|BT3A2_HUMAN\n",
      "Description: sp|P78410|BT3A2_HUMAN Butyrophilin subfamily 3 member A2 OS=Homo sapiens OX=9606 GN=BTN3A2 PE=1 SV=2\n",
      "Number of features: 0\n",
      "Seq('MKMASSLAFLLLNFHVSLLLVQLLTPCSAQFSVLGPSGPILAMVGEDADLPCHL...KSA', SingleLetterAlphabet())\n"
     ]
    }
   ],
   "source": [
    "print(uniprot[0])"
   ]
  },
  {
   "cell_type": "code",
   "execution_count": 41,
   "metadata": {},
   "outputs": [
    {
     "data": {
      "text/plain": [
       "SeqRecord(seq=Seq('MKMASSLAFLLLNFHVSLLLVQLLTPCSAQFSVLGPSGPILAMVGEDADLPCHL...KSA', SingleLetterAlphabet()), id='sp|P78410|BT3A2_HUMAN', name='sp|P78410|BT3A2_HUMAN', description='sp|P78410|BT3A2_HUMAN Butyrophilin subfamily 3 member A2 OS=Homo sapiens OX=9606 GN=BTN3A2 PE=1 SV=2', dbxrefs=[])"
      ]
     },
     "execution_count": 41,
     "metadata": {},
     "output_type": "execute_result"
    }
   ],
   "source": [
    "uniprot[0]"
   ]
  },
  {
   "cell_type": "code",
   "execution_count": 43,
   "metadata": {},
   "outputs": [],
   "source": [
    "x = uniprot[0].id"
   ]
  },
  {
   "cell_type": "code",
   "execution_count": 44,
   "metadata": {},
   "outputs": [
    {
     "data": {
      "text/plain": [
       "['sp', 'P78410', 'BT3A2_HUMAN']"
      ]
     },
     "execution_count": 44,
     "metadata": {},
     "output_type": "execute_result"
    }
   ],
   "source": [
    "x.split(\"|\")"
   ]
  },
  {
   "cell_type": "code",
   "execution_count": 45,
   "metadata": {},
   "outputs": [],
   "source": [
    "for seq in uniprot:\n",
    "    x = seq.id\n",
    "    seq.id = x.split(\"|\")[1]"
   ]
  },
  {
   "cell_type": "code",
   "execution_count": 47,
   "metadata": {},
   "outputs": [],
   "source": [
    "rec_one = uniprot[0]\n",
    "rec_two = uniprot[0]"
   ]
  },
  {
   "cell_type": "code",
   "execution_count": 59,
   "metadata": {},
   "outputs": [],
   "source": [
    "window = 10\n",
    "seq_one = str(rec_one.seq).upper()\n",
    "seq_two = str(rec_two.seq).upper()\n",
    "data = [[(seq_one[i:i+window] != seq_two[j:j+window]) \\\n",
    "        for j in range(0,len(seq_one)-window,100)] \\\n",
    "       for i in range(0,len(seq_two)-window,100)]"
   ]
  },
  {
   "cell_type": "code",
   "execution_count": 63,
   "metadata": {},
   "outputs": [
    {
     "name": "stdout",
     "output_type": "stream",
     "text": [
      "324 unique matches\n"
     ]
    }
   ],
   "source": [
    "dict_one = {}\n",
    "dict_two = {}\n",
    "for (seq, section_dict) in [(str(rec_one.seq).upper(), dict_one), (str(rec_two.seq).upper(), dict_two)]:\n",
    "    for i in range(len(seq)-window):\n",
    "        section = seq[i:i+window]\n",
    "        try:\n",
    "            section_dict[section].append(i)\n",
    "        except KeyError:\n",
    "            section_dict[section] = [i]\n",
    "            \n",
    "matches = set(dict_one).intersection(dict_two)\n",
    "print (\"%i unique matches\" % len(matches))"
   ]
  },
  {
   "cell_type": "code",
   "execution_count": 67,
   "metadata": {},
   "outputs": [],
   "source": [
    "import Bio"
   ]
  },
  {
   "cell_type": "code",
   "execution_count": 71,
   "metadata": {},
   "outputs": [
    {
     "data": {
      "text/plain": [
       "\u001b[0;31mInit signature:\u001b[0m \u001b[0mpairwise2\u001b[0m\u001b[0;34m.\u001b[0m\u001b[0midentity_match\u001b[0m\u001b[0;34m(\u001b[0m\u001b[0mmatch\u001b[0m\u001b[0;34m=\u001b[0m\u001b[0;36m1\u001b[0m\u001b[0;34m,\u001b[0m \u001b[0mmismatch\u001b[0m\u001b[0;34m=\u001b[0m\u001b[0;36m0\u001b[0m\u001b[0;34m)\u001b[0m\u001b[0;34m\u001b[0m\u001b[0;34m\u001b[0m\u001b[0m\n",
       "\u001b[0;31mDocstring:\u001b[0m     \n",
       "Create a match function for use in an alignment.\n",
       "\n",
       "match and mismatch are the scores to give when two residues are equal\n",
       "or unequal.  By default, match is 1 and mismatch is 0.\n",
       "\u001b[0;31mInit docstring:\u001b[0m Initialize the class.\n",
       "\u001b[0;31mFile:\u001b[0m           /opt/conda/lib/python3.7/site-packages/Bio/pairwise2.py\n",
       "\u001b[0;31mType:\u001b[0m           type\n",
       "\u001b[0;31mSubclasses:\u001b[0m     \n"
      ]
     },
     "metadata": {},
     "output_type": "display_data"
    }
   ],
   "source": [
    "pairwise2.identity_match?"
   ]
  },
  {
   "cell_type": "code",
   "execution_count": 72,
   "metadata": {},
   "outputs": [
    {
     "data": {
      "text/plain": [
       "'1.76'"
      ]
     },
     "execution_count": 72,
     "metadata": {},
     "output_type": "execute_result"
    }
   ],
   "source": [
    "Bio.__version__"
   ]
  },
  {
   "cell_type": "code",
   "execution_count": null,
   "metadata": {},
   "outputs": [],
   "source": [
    "def identity_score(a,b):\n",
    "    "
   ]
  },
  {
   "cell_type": "code",
   "execution_count": null,
   "metadata": {},
   "outputs": [],
   "source": []
  }
 ],
 "metadata": {
  "kernelspec": {
   "display_name": "Python 3",
   "language": "python",
   "name": "python3"
  },
  "language_info": {
   "codemirror_mode": {
    "name": "ipython",
    "version": 3
   },
   "file_extension": ".py",
   "mimetype": "text/x-python",
   "name": "python",
   "nbconvert_exporter": "python",
   "pygments_lexer": "ipython3",
   "version": "3.7.6"
  }
 },
 "nbformat": 4,
 "nbformat_minor": 4
}
